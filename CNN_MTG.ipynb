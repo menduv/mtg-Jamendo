{
  "nbformat": 4,
  "nbformat_minor": 0,
  "metadata": {
    "colab": {
      "provenance": [],
      "authorship_tag": "ABX9TyN2K6qWV7Ww2RzRP0J/4Ggx",
      "include_colab_link": true
    },
    "kernelspec": {
      "name": "python3",
      "display_name": "Python 3"
    },
    "language_info": {
      "name": "python"
    }
  },
  "cells": [
    {
      "cell_type": "markdown",
      "metadata": {
        "id": "view-in-github",
        "colab_type": "text"
      },
      "source": [
        "<a href=\"https://colab.research.google.com/github/menduv/mtg-Jamendo/blob/main/CNN_MTG.ipynb\" target=\"_parent\"><img src=\"https://colab.research.google.com/assets/colab-badge.svg\" alt=\"Open In Colab\"/></a>"
      ]
    },
    {
      "cell_type": "markdown",
      "source": [
        "# CNN model for classification of audio files with genre tags"
      ],
      "metadata": {
        "id": "EH_hCeLoQgGs"
      }
    },
    {
      "cell_type": "code",
      "execution_count": 1,
      "metadata": {
        "id": "3SKzNh0LxEGJ",
        "colab": {
          "base_uri": "https://localhost:8080/"
        },
        "outputId": "8d0dee97-e356-4d3b-d0d6-deea945d585c"
      },
      "outputs": [
        {
          "output_type": "stream",
          "name": "stdout",
          "text": [
            "Mounted at /content/drive\n"
          ]
        }
      ],
      "source": [
        "#connecting to google drive\n",
        "from google.colab import drive\n",
        "drive.mount('/content/drive')"
      ]
    },
    {
      "cell_type": "code",
      "source": [
        "#importing the spectrogram images stored in a zip file\n",
        "\n",
        "'''\n",
        "around 4k files cropped from 0 to 30sec frame \"\"C:\\Uni\\Thesis\\data\\cropped_archive_22.zip\"\"\n",
        "around 5k files cropped from 0 to 30sec frame \"/content/drive/MyDrive/colab_data/cropped_archive_30.zip\"\n",
        "around 5k files cropped from 30 to 60sec frame \"/content/drive/MyDrive/colab_data/cropped_archive_shift_cropped_30.zip\"\n",
        "'''\n",
        "import zipfile\n",
        "with zipfile.ZipFile(\"/content/drive/MyDrive/colab_data/cropped_archive_shift_cropped_30.zip\",\"r\") as zip_ref:\n",
        "    zip_ref.extractall(\"/content/sample_mel\")"
      ],
      "metadata": {
        "id": "ODchbT-XzZka"
      },
      "execution_count": null,
      "outputs": []
    },
    {
      "cell_type": "code",
      "source": [
        "#importing necessary libraries\n",
        "import numpy as np\n",
        "import pandas as pd\n",
        "import cv2\n",
        "pd.options.mode.chained_assignment = None  # default='warn'\n",
        "import os\n",
        "import matplotlib.pyplot as plt\n",
        "from imgaug import augmenters as iaa\n",
        "from sklearn.model_selection import train_test_split\n",
        "from tensorflow.keras.models import Sequential\n",
        "from tensorflow.keras.layers import Conv2D, MaxPooling2D, Flatten, Dense, Dropout, BatchNormalization, Activation\n",
        "from tensorflow.keras.preprocessing.image import ImageDataGenerator\n",
        "from tensorflow.keras.regularizers import l2\n",
        "from keras.models import load_model"
      ],
      "metadata": {
        "id": "_twkfAbJ2DtV"
      },
      "execution_count": null,
      "outputs": []
    },
    {
      "cell_type": "code",
      "source": [
        "#checking the no. of spectrograms and their size\n",
        "mel_dir = '/content/sample_mel'\n",
        "mel_list = os.listdir(mel_dir)\n",
        "mel_npy = np.load(f'{mel_dir}/{mel_list[25]}') #loading the 26th file to check the size\n",
        "print('Count of npy files: ', len(mel_list))\n",
        "print('Size of image: ', mel_npy.shape)"
      ],
      "metadata": {
        "colab": {
          "base_uri": "https://localhost:8080/"
        },
        "id": "t4BVZblv1kAl",
        "outputId": "816e5b70-9bf3-4f33-b247-7f4bfce1d584"
      },
      "execution_count": null,
      "outputs": [
        {
          "output_type": "stream",
          "name": "stdout",
          "text": [
            "Count of npy files:  5684\n",
            "Size of image:  (96, 1406)\n"
          ]
        }
      ]
    },
    {
      "cell_type": "markdown",
      "source": [
        "## Loading the mtg dataframe and filtering it to include top 5 genres from the sample"
      ],
      "metadata": {
        "id": "_VTCxGp8b0iX"
      }
    },
    {
      "cell_type": "code",
      "source": [
        "#importing csv that contains the metafile of all the tracks\n",
        "df_all = pd.read_csv('/content/mtg_cleaned.csv', index_col = [0])"
      ],
      "metadata": {
        "id": "qbRryNa92T9L"
      },
      "execution_count": null,
      "outputs": []
    },
    {
      "cell_type": "code",
      "source": [
        "df_all.head()"
      ],
      "metadata": {
        "colab": {
          "base_uri": "https://localhost:8080/",
          "height": 206
        },
        "id": "HiZFNNXALZFr",
        "outputId": "591e12b1-5ad8-404d-fc00-35a523529e71"
      },
      "execution_count": null,
      "outputs": [
        {
          "output_type": "execute_result",
          "data": {
            "text/plain": [
              "   track_id  artist_id  album_id        path  duration     genre instrument  \\\n",
              "1       214         14        31  14/214.mp3     124.6  punkrock        NaN   \n",
              "2       215         14        31  15/215.mp3     151.4     metal        NaN   \n",
              "3       216         14        31  16/216.mp3     234.9     metal        NaN   \n",
              "4       217         14        31  17/217.mp3     127.9  punkrock        NaN   \n",
              "5       218         14        31  18/218.mp3     180.7  punkrock        NaN   \n",
              "\n",
              "  mood  \n",
              "1  NaN  \n",
              "2  NaN  \n",
              "3  NaN  \n",
              "4  NaN  \n",
              "5  NaN  "
            ],
            "text/html": [
              "\n",
              "  <div id=\"df-a9b4a510-07b0-484a-aba0-99f860c38f90\" class=\"colab-df-container\">\n",
              "    <div>\n",
              "<style scoped>\n",
              "    .dataframe tbody tr th:only-of-type {\n",
              "        vertical-align: middle;\n",
              "    }\n",
              "\n",
              "    .dataframe tbody tr th {\n",
              "        vertical-align: top;\n",
              "    }\n",
              "\n",
              "    .dataframe thead th {\n",
              "        text-align: right;\n",
              "    }\n",
              "</style>\n",
              "<table border=\"1\" class=\"dataframe\">\n",
              "  <thead>\n",
              "    <tr style=\"text-align: right;\">\n",
              "      <th></th>\n",
              "      <th>track_id</th>\n",
              "      <th>artist_id</th>\n",
              "      <th>album_id</th>\n",
              "      <th>path</th>\n",
              "      <th>duration</th>\n",
              "      <th>genre</th>\n",
              "      <th>instrument</th>\n",
              "      <th>mood</th>\n",
              "    </tr>\n",
              "  </thead>\n",
              "  <tbody>\n",
              "    <tr>\n",
              "      <th>1</th>\n",
              "      <td>214</td>\n",
              "      <td>14</td>\n",
              "      <td>31</td>\n",
              "      <td>14/214.mp3</td>\n",
              "      <td>124.6</td>\n",
              "      <td>punkrock</td>\n",
              "      <td>NaN</td>\n",
              "      <td>NaN</td>\n",
              "    </tr>\n",
              "    <tr>\n",
              "      <th>2</th>\n",
              "      <td>215</td>\n",
              "      <td>14</td>\n",
              "      <td>31</td>\n",
              "      <td>15/215.mp3</td>\n",
              "      <td>151.4</td>\n",
              "      <td>metal</td>\n",
              "      <td>NaN</td>\n",
              "      <td>NaN</td>\n",
              "    </tr>\n",
              "    <tr>\n",
              "      <th>3</th>\n",
              "      <td>216</td>\n",
              "      <td>14</td>\n",
              "      <td>31</td>\n",
              "      <td>16/216.mp3</td>\n",
              "      <td>234.9</td>\n",
              "      <td>metal</td>\n",
              "      <td>NaN</td>\n",
              "      <td>NaN</td>\n",
              "    </tr>\n",
              "    <tr>\n",
              "      <th>4</th>\n",
              "      <td>217</td>\n",
              "      <td>14</td>\n",
              "      <td>31</td>\n",
              "      <td>17/217.mp3</td>\n",
              "      <td>127.9</td>\n",
              "      <td>punkrock</td>\n",
              "      <td>NaN</td>\n",
              "      <td>NaN</td>\n",
              "    </tr>\n",
              "    <tr>\n",
              "      <th>5</th>\n",
              "      <td>218</td>\n",
              "      <td>14</td>\n",
              "      <td>31</td>\n",
              "      <td>18/218.mp3</td>\n",
              "      <td>180.7</td>\n",
              "      <td>punkrock</td>\n",
              "      <td>NaN</td>\n",
              "      <td>NaN</td>\n",
              "    </tr>\n",
              "  </tbody>\n",
              "</table>\n",
              "</div>\n",
              "    <div class=\"colab-df-buttons\">\n",
              "\n",
              "  <div class=\"colab-df-container\">\n",
              "    <button class=\"colab-df-convert\" onclick=\"convertToInteractive('df-a9b4a510-07b0-484a-aba0-99f860c38f90')\"\n",
              "            title=\"Convert this dataframe to an interactive table.\"\n",
              "            style=\"display:none;\">\n",
              "\n",
              "  <svg xmlns=\"http://www.w3.org/2000/svg\" height=\"24px\" viewBox=\"0 -960 960 960\">\n",
              "    <path d=\"M120-120v-720h720v720H120Zm60-500h600v-160H180v160Zm220 220h160v-160H400v160Zm0 220h160v-160H400v160ZM180-400h160v-160H180v160Zm440 0h160v-160H620v160ZM180-180h160v-160H180v160Zm440 0h160v-160H620v160Z\"/>\n",
              "  </svg>\n",
              "    </button>\n",
              "\n",
              "  <style>\n",
              "    .colab-df-container {\n",
              "      display:flex;\n",
              "      gap: 12px;\n",
              "    }\n",
              "\n",
              "    .colab-df-convert {\n",
              "      background-color: #E8F0FE;\n",
              "      border: none;\n",
              "      border-radius: 50%;\n",
              "      cursor: pointer;\n",
              "      display: none;\n",
              "      fill: #1967D2;\n",
              "      height: 32px;\n",
              "      padding: 0 0 0 0;\n",
              "      width: 32px;\n",
              "    }\n",
              "\n",
              "    .colab-df-convert:hover {\n",
              "      background-color: #E2EBFA;\n",
              "      box-shadow: 0px 1px 2px rgba(60, 64, 67, 0.3), 0px 1px 3px 1px rgba(60, 64, 67, 0.15);\n",
              "      fill: #174EA6;\n",
              "    }\n",
              "\n",
              "    .colab-df-buttons div {\n",
              "      margin-bottom: 4px;\n",
              "    }\n",
              "\n",
              "    [theme=dark] .colab-df-convert {\n",
              "      background-color: #3B4455;\n",
              "      fill: #D2E3FC;\n",
              "    }\n",
              "\n",
              "    [theme=dark] .colab-df-convert:hover {\n",
              "      background-color: #434B5C;\n",
              "      box-shadow: 0px 1px 3px 1px rgba(0, 0, 0, 0.15);\n",
              "      filter: drop-shadow(0px 1px 2px rgba(0, 0, 0, 0.3));\n",
              "      fill: #FFFFFF;\n",
              "    }\n",
              "  </style>\n",
              "\n",
              "    <script>\n",
              "      const buttonEl =\n",
              "        document.querySelector('#df-a9b4a510-07b0-484a-aba0-99f860c38f90 button.colab-df-convert');\n",
              "      buttonEl.style.display =\n",
              "        google.colab.kernel.accessAllowed ? 'block' : 'none';\n",
              "\n",
              "      async function convertToInteractive(key) {\n",
              "        const element = document.querySelector('#df-a9b4a510-07b0-484a-aba0-99f860c38f90');\n",
              "        const dataTable =\n",
              "          await google.colab.kernel.invokeFunction('convertToInteractive',\n",
              "                                                    [key], {});\n",
              "        if (!dataTable) return;\n",
              "\n",
              "        const docLinkHtml = 'Like what you see? Visit the ' +\n",
              "          '<a target=\"_blank\" href=https://colab.research.google.com/notebooks/data_table.ipynb>data table notebook</a>'\n",
              "          + ' to learn more about interactive tables.';\n",
              "        element.innerHTML = '';\n",
              "        dataTable['output_type'] = 'display_data';\n",
              "        await google.colab.output.renderOutput(dataTable, element);\n",
              "        const docLink = document.createElement('div');\n",
              "        docLink.innerHTML = docLinkHtml;\n",
              "        element.appendChild(docLink);\n",
              "      }\n",
              "    </script>\n",
              "  </div>\n",
              "\n",
              "\n",
              "<div id=\"df-69dc4be2-7966-42fc-8148-00b3a19095a1\">\n",
              "  <button class=\"colab-df-quickchart\" onclick=\"quickchart('df-69dc4be2-7966-42fc-8148-00b3a19095a1')\"\n",
              "            title=\"Suggest charts\"\n",
              "            style=\"display:none;\">\n",
              "\n",
              "<svg xmlns=\"http://www.w3.org/2000/svg\" height=\"24px\"viewBox=\"0 0 24 24\"\n",
              "     width=\"24px\">\n",
              "    <g>\n",
              "        <path d=\"M19 3H5c-1.1 0-2 .9-2 2v14c0 1.1.9 2 2 2h14c1.1 0 2-.9 2-2V5c0-1.1-.9-2-2-2zM9 17H7v-7h2v7zm4 0h-2V7h2v10zm4 0h-2v-4h2v4z\"/>\n",
              "    </g>\n",
              "</svg>\n",
              "  </button>\n",
              "\n",
              "<style>\n",
              "  .colab-df-quickchart {\n",
              "      --bg-color: #E8F0FE;\n",
              "      --fill-color: #1967D2;\n",
              "      --hover-bg-color: #E2EBFA;\n",
              "      --hover-fill-color: #174EA6;\n",
              "      --disabled-fill-color: #AAA;\n",
              "      --disabled-bg-color: #DDD;\n",
              "  }\n",
              "\n",
              "  [theme=dark] .colab-df-quickchart {\n",
              "      --bg-color: #3B4455;\n",
              "      --fill-color: #D2E3FC;\n",
              "      --hover-bg-color: #434B5C;\n",
              "      --hover-fill-color: #FFFFFF;\n",
              "      --disabled-bg-color: #3B4455;\n",
              "      --disabled-fill-color: #666;\n",
              "  }\n",
              "\n",
              "  .colab-df-quickchart {\n",
              "    background-color: var(--bg-color);\n",
              "    border: none;\n",
              "    border-radius: 50%;\n",
              "    cursor: pointer;\n",
              "    display: none;\n",
              "    fill: var(--fill-color);\n",
              "    height: 32px;\n",
              "    padding: 0;\n",
              "    width: 32px;\n",
              "  }\n",
              "\n",
              "  .colab-df-quickchart:hover {\n",
              "    background-color: var(--hover-bg-color);\n",
              "    box-shadow: 0 1px 2px rgba(60, 64, 67, 0.3), 0 1px 3px 1px rgba(60, 64, 67, 0.15);\n",
              "    fill: var(--button-hover-fill-color);\n",
              "  }\n",
              "\n",
              "  .colab-df-quickchart-complete:disabled,\n",
              "  .colab-df-quickchart-complete:disabled:hover {\n",
              "    background-color: var(--disabled-bg-color);\n",
              "    fill: var(--disabled-fill-color);\n",
              "    box-shadow: none;\n",
              "  }\n",
              "\n",
              "  .colab-df-spinner {\n",
              "    border: 2px solid var(--fill-color);\n",
              "    border-color: transparent;\n",
              "    border-bottom-color: var(--fill-color);\n",
              "    animation:\n",
              "      spin 1s steps(1) infinite;\n",
              "  }\n",
              "\n",
              "  @keyframes spin {\n",
              "    0% {\n",
              "      border-color: transparent;\n",
              "      border-bottom-color: var(--fill-color);\n",
              "      border-left-color: var(--fill-color);\n",
              "    }\n",
              "    20% {\n",
              "      border-color: transparent;\n",
              "      border-left-color: var(--fill-color);\n",
              "      border-top-color: var(--fill-color);\n",
              "    }\n",
              "    30% {\n",
              "      border-color: transparent;\n",
              "      border-left-color: var(--fill-color);\n",
              "      border-top-color: var(--fill-color);\n",
              "      border-right-color: var(--fill-color);\n",
              "    }\n",
              "    40% {\n",
              "      border-color: transparent;\n",
              "      border-right-color: var(--fill-color);\n",
              "      border-top-color: var(--fill-color);\n",
              "    }\n",
              "    60% {\n",
              "      border-color: transparent;\n",
              "      border-right-color: var(--fill-color);\n",
              "    }\n",
              "    80% {\n",
              "      border-color: transparent;\n",
              "      border-right-color: var(--fill-color);\n",
              "      border-bottom-color: var(--fill-color);\n",
              "    }\n",
              "    90% {\n",
              "      border-color: transparent;\n",
              "      border-bottom-color: var(--fill-color);\n",
              "    }\n",
              "  }\n",
              "</style>\n",
              "\n",
              "  <script>\n",
              "    async function quickchart(key) {\n",
              "      const quickchartButtonEl =\n",
              "        document.querySelector('#' + key + ' button');\n",
              "      quickchartButtonEl.disabled = true;  // To prevent multiple clicks.\n",
              "      quickchartButtonEl.classList.add('colab-df-spinner');\n",
              "      try {\n",
              "        const charts = await google.colab.kernel.invokeFunction(\n",
              "            'suggestCharts', [key], {});\n",
              "      } catch (error) {\n",
              "        console.error('Error during call to suggestCharts:', error);\n",
              "      }\n",
              "      quickchartButtonEl.classList.remove('colab-df-spinner');\n",
              "      quickchartButtonEl.classList.add('colab-df-quickchart-complete');\n",
              "    }\n",
              "    (() => {\n",
              "      let quickchartButtonEl =\n",
              "        document.querySelector('#df-69dc4be2-7966-42fc-8148-00b3a19095a1 button');\n",
              "      quickchartButtonEl.style.display =\n",
              "        google.colab.kernel.accessAllowed ? 'block' : 'none';\n",
              "    })();\n",
              "  </script>\n",
              "</div>\n",
              "\n",
              "    </div>\n",
              "  </div>\n"
            ]
          },
          "metadata": {},
          "execution_count": 4
        }
      ]
    },
    {
      "cell_type": "code",
      "source": [
        "#list of all the track_ids in the sample zip file\n",
        "track_ids = [int(file_name.replace('_30-60.npy', '')) for file_name in mel_list]\n",
        "\n",
        "#filtering only those tracks to the dataset\n",
        "df = df_all[df_all['track_id'].isin(track_ids)]\n",
        "\n",
        "#only taking the first genre from the genre column\n",
        "df['genre'] = df['genre'].str.split(',').str[0]\n",
        "\n",
        "#only keeping the tracks and genre column\n",
        "df = df[['track_id', 'genre']]"
      ],
      "metadata": {
        "id": "Zn6shezZLitE"
      },
      "execution_count": null,
      "outputs": []
    },
    {
      "cell_type": "code",
      "source": [
        "#calculating the most frequent genres in the sample and only keeping the top five in the df\n",
        "genre_count = pd.DataFrame(df.genre.value_counts().rename_axis('genre').reset_index(name='counts'))\n",
        "\n",
        "#list of top five genres\n",
        "top_genres = list(genre_count.genre[:10])\n",
        "\n",
        "#filtering df to only keep\n",
        "df = df[df['genre'].isin(top_genres)].sort_values(by = 'track_id', ascending = True).reset_index(drop = True)\n",
        "\n",
        "df"
      ],
      "metadata": {
        "colab": {
          "base_uri": "https://localhost:8080/",
          "height": 423
        },
        "id": "cRuX2XfHXWh9",
        "outputId": "cb20e1f0-6c0b-46f1-9ba7-6b168acffa66"
      },
      "execution_count": null,
      "outputs": [
        {
          "output_type": "execute_result",
          "data": {
            "text/plain": [
              "      track_id       genre\n",
              "0         3524  electronic\n",
              "1         4629     ambient\n",
              "2         6606       dance\n",
              "3         6607       dance\n",
              "4         6608       dance\n",
              "...        ...         ...\n",
              "3936   1420700    chillout\n",
              "3937   1420704       dance\n",
              "3938   1420705       dance\n",
              "3939   1420706       dance\n",
              "3940   1420707    chillout\n",
              "\n",
              "[3941 rows x 2 columns]"
            ],
            "text/html": [
              "\n",
              "  <div id=\"df-a5de5b6d-c7f9-4a71-b666-a5b65fec28e2\" class=\"colab-df-container\">\n",
              "    <div>\n",
              "<style scoped>\n",
              "    .dataframe tbody tr th:only-of-type {\n",
              "        vertical-align: middle;\n",
              "    }\n",
              "\n",
              "    .dataframe tbody tr th {\n",
              "        vertical-align: top;\n",
              "    }\n",
              "\n",
              "    .dataframe thead th {\n",
              "        text-align: right;\n",
              "    }\n",
              "</style>\n",
              "<table border=\"1\" class=\"dataframe\">\n",
              "  <thead>\n",
              "    <tr style=\"text-align: right;\">\n",
              "      <th></th>\n",
              "      <th>track_id</th>\n",
              "      <th>genre</th>\n",
              "    </tr>\n",
              "  </thead>\n",
              "  <tbody>\n",
              "    <tr>\n",
              "      <th>0</th>\n",
              "      <td>3524</td>\n",
              "      <td>electronic</td>\n",
              "    </tr>\n",
              "    <tr>\n",
              "      <th>1</th>\n",
              "      <td>4629</td>\n",
              "      <td>ambient</td>\n",
              "    </tr>\n",
              "    <tr>\n",
              "      <th>2</th>\n",
              "      <td>6606</td>\n",
              "      <td>dance</td>\n",
              "    </tr>\n",
              "    <tr>\n",
              "      <th>3</th>\n",
              "      <td>6607</td>\n",
              "      <td>dance</td>\n",
              "    </tr>\n",
              "    <tr>\n",
              "      <th>4</th>\n",
              "      <td>6608</td>\n",
              "      <td>dance</td>\n",
              "    </tr>\n",
              "    <tr>\n",
              "      <th>...</th>\n",
              "      <td>...</td>\n",
              "      <td>...</td>\n",
              "    </tr>\n",
              "    <tr>\n",
              "      <th>3936</th>\n",
              "      <td>1420700</td>\n",
              "      <td>chillout</td>\n",
              "    </tr>\n",
              "    <tr>\n",
              "      <th>3937</th>\n",
              "      <td>1420704</td>\n",
              "      <td>dance</td>\n",
              "    </tr>\n",
              "    <tr>\n",
              "      <th>3938</th>\n",
              "      <td>1420705</td>\n",
              "      <td>dance</td>\n",
              "    </tr>\n",
              "    <tr>\n",
              "      <th>3939</th>\n",
              "      <td>1420706</td>\n",
              "      <td>dance</td>\n",
              "    </tr>\n",
              "    <tr>\n",
              "      <th>3940</th>\n",
              "      <td>1420707</td>\n",
              "      <td>chillout</td>\n",
              "    </tr>\n",
              "  </tbody>\n",
              "</table>\n",
              "<p>3941 rows × 2 columns</p>\n",
              "</div>\n",
              "    <div class=\"colab-df-buttons\">\n",
              "\n",
              "  <div class=\"colab-df-container\">\n",
              "    <button class=\"colab-df-convert\" onclick=\"convertToInteractive('df-a5de5b6d-c7f9-4a71-b666-a5b65fec28e2')\"\n",
              "            title=\"Convert this dataframe to an interactive table.\"\n",
              "            style=\"display:none;\">\n",
              "\n",
              "  <svg xmlns=\"http://www.w3.org/2000/svg\" height=\"24px\" viewBox=\"0 -960 960 960\">\n",
              "    <path d=\"M120-120v-720h720v720H120Zm60-500h600v-160H180v160Zm220 220h160v-160H400v160Zm0 220h160v-160H400v160ZM180-400h160v-160H180v160Zm440 0h160v-160H620v160ZM180-180h160v-160H180v160Zm440 0h160v-160H620v160Z\"/>\n",
              "  </svg>\n",
              "    </button>\n",
              "\n",
              "  <style>\n",
              "    .colab-df-container {\n",
              "      display:flex;\n",
              "      gap: 12px;\n",
              "    }\n",
              "\n",
              "    .colab-df-convert {\n",
              "      background-color: #E8F0FE;\n",
              "      border: none;\n",
              "      border-radius: 50%;\n",
              "      cursor: pointer;\n",
              "      display: none;\n",
              "      fill: #1967D2;\n",
              "      height: 32px;\n",
              "      padding: 0 0 0 0;\n",
              "      width: 32px;\n",
              "    }\n",
              "\n",
              "    .colab-df-convert:hover {\n",
              "      background-color: #E2EBFA;\n",
              "      box-shadow: 0px 1px 2px rgba(60, 64, 67, 0.3), 0px 1px 3px 1px rgba(60, 64, 67, 0.15);\n",
              "      fill: #174EA6;\n",
              "    }\n",
              "\n",
              "    .colab-df-buttons div {\n",
              "      margin-bottom: 4px;\n",
              "    }\n",
              "\n",
              "    [theme=dark] .colab-df-convert {\n",
              "      background-color: #3B4455;\n",
              "      fill: #D2E3FC;\n",
              "    }\n",
              "\n",
              "    [theme=dark] .colab-df-convert:hover {\n",
              "      background-color: #434B5C;\n",
              "      box-shadow: 0px 1px 3px 1px rgba(0, 0, 0, 0.15);\n",
              "      filter: drop-shadow(0px 1px 2px rgba(0, 0, 0, 0.3));\n",
              "      fill: #FFFFFF;\n",
              "    }\n",
              "  </style>\n",
              "\n",
              "    <script>\n",
              "      const buttonEl =\n",
              "        document.querySelector('#df-a5de5b6d-c7f9-4a71-b666-a5b65fec28e2 button.colab-df-convert');\n",
              "      buttonEl.style.display =\n",
              "        google.colab.kernel.accessAllowed ? 'block' : 'none';\n",
              "\n",
              "      async function convertToInteractive(key) {\n",
              "        const element = document.querySelector('#df-a5de5b6d-c7f9-4a71-b666-a5b65fec28e2');\n",
              "        const dataTable =\n",
              "          await google.colab.kernel.invokeFunction('convertToInteractive',\n",
              "                                                    [key], {});\n",
              "        if (!dataTable) return;\n",
              "\n",
              "        const docLinkHtml = 'Like what you see? Visit the ' +\n",
              "          '<a target=\"_blank\" href=https://colab.research.google.com/notebooks/data_table.ipynb>data table notebook</a>'\n",
              "          + ' to learn more about interactive tables.';\n",
              "        element.innerHTML = '';\n",
              "        dataTable['output_type'] = 'display_data';\n",
              "        await google.colab.output.renderOutput(dataTable, element);\n",
              "        const docLink = document.createElement('div');\n",
              "        docLink.innerHTML = docLinkHtml;\n",
              "        element.appendChild(docLink);\n",
              "      }\n",
              "    </script>\n",
              "  </div>\n",
              "\n",
              "\n",
              "<div id=\"df-af2e281d-e09a-4257-86b1-c48211a68fa0\">\n",
              "  <button class=\"colab-df-quickchart\" onclick=\"quickchart('df-af2e281d-e09a-4257-86b1-c48211a68fa0')\"\n",
              "            title=\"Suggest charts\"\n",
              "            style=\"display:none;\">\n",
              "\n",
              "<svg xmlns=\"http://www.w3.org/2000/svg\" height=\"24px\"viewBox=\"0 0 24 24\"\n",
              "     width=\"24px\">\n",
              "    <g>\n",
              "        <path d=\"M19 3H5c-1.1 0-2 .9-2 2v14c0 1.1.9 2 2 2h14c1.1 0 2-.9 2-2V5c0-1.1-.9-2-2-2zM9 17H7v-7h2v7zm4 0h-2V7h2v10zm4 0h-2v-4h2v4z\"/>\n",
              "    </g>\n",
              "</svg>\n",
              "  </button>\n",
              "\n",
              "<style>\n",
              "  .colab-df-quickchart {\n",
              "      --bg-color: #E8F0FE;\n",
              "      --fill-color: #1967D2;\n",
              "      --hover-bg-color: #E2EBFA;\n",
              "      --hover-fill-color: #174EA6;\n",
              "      --disabled-fill-color: #AAA;\n",
              "      --disabled-bg-color: #DDD;\n",
              "  }\n",
              "\n",
              "  [theme=dark] .colab-df-quickchart {\n",
              "      --bg-color: #3B4455;\n",
              "      --fill-color: #D2E3FC;\n",
              "      --hover-bg-color: #434B5C;\n",
              "      --hover-fill-color: #FFFFFF;\n",
              "      --disabled-bg-color: #3B4455;\n",
              "      --disabled-fill-color: #666;\n",
              "  }\n",
              "\n",
              "  .colab-df-quickchart {\n",
              "    background-color: var(--bg-color);\n",
              "    border: none;\n",
              "    border-radius: 50%;\n",
              "    cursor: pointer;\n",
              "    display: none;\n",
              "    fill: var(--fill-color);\n",
              "    height: 32px;\n",
              "    padding: 0;\n",
              "    width: 32px;\n",
              "  }\n",
              "\n",
              "  .colab-df-quickchart:hover {\n",
              "    background-color: var(--hover-bg-color);\n",
              "    box-shadow: 0 1px 2px rgba(60, 64, 67, 0.3), 0 1px 3px 1px rgba(60, 64, 67, 0.15);\n",
              "    fill: var(--button-hover-fill-color);\n",
              "  }\n",
              "\n",
              "  .colab-df-quickchart-complete:disabled,\n",
              "  .colab-df-quickchart-complete:disabled:hover {\n",
              "    background-color: var(--disabled-bg-color);\n",
              "    fill: var(--disabled-fill-color);\n",
              "    box-shadow: none;\n",
              "  }\n",
              "\n",
              "  .colab-df-spinner {\n",
              "    border: 2px solid var(--fill-color);\n",
              "    border-color: transparent;\n",
              "    border-bottom-color: var(--fill-color);\n",
              "    animation:\n",
              "      spin 1s steps(1) infinite;\n",
              "  }\n",
              "\n",
              "  @keyframes spin {\n",
              "    0% {\n",
              "      border-color: transparent;\n",
              "      border-bottom-color: var(--fill-color);\n",
              "      border-left-color: var(--fill-color);\n",
              "    }\n",
              "    20% {\n",
              "      border-color: transparent;\n",
              "      border-left-color: var(--fill-color);\n",
              "      border-top-color: var(--fill-color);\n",
              "    }\n",
              "    30% {\n",
              "      border-color: transparent;\n",
              "      border-left-color: var(--fill-color);\n",
              "      border-top-color: var(--fill-color);\n",
              "      border-right-color: var(--fill-color);\n",
              "    }\n",
              "    40% {\n",
              "      border-color: transparent;\n",
              "      border-right-color: var(--fill-color);\n",
              "      border-top-color: var(--fill-color);\n",
              "    }\n",
              "    60% {\n",
              "      border-color: transparent;\n",
              "      border-right-color: var(--fill-color);\n",
              "    }\n",
              "    80% {\n",
              "      border-color: transparent;\n",
              "      border-right-color: var(--fill-color);\n",
              "      border-bottom-color: var(--fill-color);\n",
              "    }\n",
              "    90% {\n",
              "      border-color: transparent;\n",
              "      border-bottom-color: var(--fill-color);\n",
              "    }\n",
              "  }\n",
              "</style>\n",
              "\n",
              "  <script>\n",
              "    async function quickchart(key) {\n",
              "      const quickchartButtonEl =\n",
              "        document.querySelector('#' + key + ' button');\n",
              "      quickchartButtonEl.disabled = true;  // To prevent multiple clicks.\n",
              "      quickchartButtonEl.classList.add('colab-df-spinner');\n",
              "      try {\n",
              "        const charts = await google.colab.kernel.invokeFunction(\n",
              "            'suggestCharts', [key], {});\n",
              "      } catch (error) {\n",
              "        console.error('Error during call to suggestCharts:', error);\n",
              "      }\n",
              "      quickchartButtonEl.classList.remove('colab-df-spinner');\n",
              "      quickchartButtonEl.classList.add('colab-df-quickchart-complete');\n",
              "    }\n",
              "    (() => {\n",
              "      let quickchartButtonEl =\n",
              "        document.querySelector('#df-af2e281d-e09a-4257-86b1-c48211a68fa0 button');\n",
              "      quickchartButtonEl.style.display =\n",
              "        google.colab.kernel.accessAllowed ? 'block' : 'none';\n",
              "    })();\n",
              "  </script>\n",
              "</div>\n",
              "\n",
              "  <div id=\"id_71a2a6fd-84e5-4fa6-91c6-ca31fcbc714a\">\n",
              "    <style>\n",
              "      .colab-df-generate {\n",
              "        background-color: #E8F0FE;\n",
              "        border: none;\n",
              "        border-radius: 50%;\n",
              "        cursor: pointer;\n",
              "        display: none;\n",
              "        fill: #1967D2;\n",
              "        height: 32px;\n",
              "        padding: 0 0 0 0;\n",
              "        width: 32px;\n",
              "      }\n",
              "\n",
              "      .colab-df-generate:hover {\n",
              "        background-color: #E2EBFA;\n",
              "        box-shadow: 0px 1px 2px rgba(60, 64, 67, 0.3), 0px 1px 3px 1px rgba(60, 64, 67, 0.15);\n",
              "        fill: #174EA6;\n",
              "      }\n",
              "\n",
              "      [theme=dark] .colab-df-generate {\n",
              "        background-color: #3B4455;\n",
              "        fill: #D2E3FC;\n",
              "      }\n",
              "\n",
              "      [theme=dark] .colab-df-generate:hover {\n",
              "        background-color: #434B5C;\n",
              "        box-shadow: 0px 1px 3px 1px rgba(0, 0, 0, 0.15);\n",
              "        filter: drop-shadow(0px 1px 2px rgba(0, 0, 0, 0.3));\n",
              "        fill: #FFFFFF;\n",
              "      }\n",
              "    </style>\n",
              "    <button class=\"colab-df-generate\" onclick=\"generateWithVariable('df')\"\n",
              "            title=\"Generate code using this dataframe.\"\n",
              "            style=\"display:none;\">\n",
              "\n",
              "  <svg xmlns=\"http://www.w3.org/2000/svg\" height=\"24px\"viewBox=\"0 0 24 24\"\n",
              "       width=\"24px\">\n",
              "    <path d=\"M7,19H8.4L18.45,9,17,7.55,7,17.6ZM5,21V16.75L18.45,3.32a2,2,0,0,1,2.83,0l1.4,1.43a1.91,1.91,0,0,1,.58,1.4,1.91,1.91,0,0,1-.58,1.4L9.25,21ZM18.45,9,17,7.55Zm-12,3A5.31,5.31,0,0,0,4.9,8.1,5.31,5.31,0,0,0,1,6.5,5.31,5.31,0,0,0,4.9,4.9,5.31,5.31,0,0,0,6.5,1,5.31,5.31,0,0,0,8.1,4.9,5.31,5.31,0,0,0,12,6.5,5.46,5.46,0,0,0,6.5,12Z\"/>\n",
              "  </svg>\n",
              "    </button>\n",
              "    <script>\n",
              "      (() => {\n",
              "      const buttonEl =\n",
              "        document.querySelector('#id_71a2a6fd-84e5-4fa6-91c6-ca31fcbc714a button.colab-df-generate');\n",
              "      buttonEl.style.display =\n",
              "        google.colab.kernel.accessAllowed ? 'block' : 'none';\n",
              "\n",
              "      buttonEl.onclick = () => {\n",
              "        google.colab.notebook.generateWithVariable('df');\n",
              "      }\n",
              "      })();\n",
              "    </script>\n",
              "  </div>\n",
              "\n",
              "    </div>\n",
              "  </div>\n"
            ]
          },
          "metadata": {},
          "execution_count": 6
        }
      ]
    },
    {
      "cell_type": "code",
      "source": [
        "#List of all the track_ids that are in the sample and have top5\n",
        "train_track_ids = list(df['track_id'].values)"
      ],
      "metadata": {
        "id": "rgxV4ammN1MI"
      },
      "execution_count": null,
      "outputs": []
    },
    {
      "cell_type": "code",
      "source": [
        "#check these elements against the output of the \"loading the cropped .npy files\" cell\n",
        "train_track_ids[:5]"
      ],
      "metadata": {
        "colab": {
          "base_uri": "https://localhost:8080/"
        },
        "id": "9M3C6kOS6KqY",
        "outputId": "16288333-6734-49a0-c5ef-dee25b327de8"
      },
      "execution_count": null,
      "outputs": [
        {
          "output_type": "execute_result",
          "data": {
            "text/plain": [
              "[3524, 4629, 6606, 6607, 6608]"
            ]
          },
          "metadata": {},
          "execution_count": 8
        }
      ]
    },
    {
      "cell_type": "markdown",
      "source": [
        "# Training the model"
      ],
      "metadata": {
        "id": "9EQkgGg9q3v_"
      }
    },
    {
      "cell_type": "code",
      "source": [
        "def add_gauss_noise(image, mean = 0, var = 10):\n",
        "    '''function to add gaussian noise to an image'''\n",
        "    sigma = var ** 0.5\n",
        "\n",
        "    #creating a noise image with gaussian distribution\n",
        "    gaussian = np.random.normal(mean, sigma, (img.shape[0], img.shape[1]))\n",
        "\n",
        "    #creating a zeroes image\n",
        "    noisy_image = np.zeros(img.shape, np.float32)\n",
        "\n",
        "    #adding the noise to the original image\n",
        "    noisy_image = img + gaussian\n",
        "\n",
        "    #normalising the image\n",
        "    cv2.normalize(noisy_image, noisy_image, 0, 255, cv2.NORM_MINMAX, dtype=-1)\n",
        "\n",
        "    #changing type\n",
        "    noisy_image = noisy_image.astype(np.uint8)\n",
        "\n",
        "    return noisy_image"
      ],
      "metadata": {
        "id": "5GVjutXQLfTM"
      },
      "execution_count": null,
      "outputs": []
    },
    {
      "cell_type": "code",
      "source": [
        "#loading the cropped .npy files\n",
        "\n",
        "folder_path_mel = '/content/sample_mel'\n",
        "filenames = os.listdir(folder_path_mel)\n",
        "\n",
        "data = []\n",
        "i = 0\n",
        "\n",
        "for filename in train_track_ids:\n",
        "  filename_npy = str(filename) + '_30-60.npy'\n",
        "  file_path = os.path.join(folder_path_mel, filename_npy)\n",
        "  img = np.load(file_path)\n",
        "  data.append(add_gauss_noise(img))\n",
        "  if i < 10 :\n",
        "    print(filename)\n",
        "  i = i+1\n",
        "\n",
        "data = np.array(data)\n"
      ],
      "metadata": {
        "id": "mWzklUIEAxTy",
        "colab": {
          "base_uri": "https://localhost:8080/"
        },
        "outputId": "c596c7a1-e15a-467f-f68a-86b9adf73db1"
      },
      "execution_count": null,
      "outputs": [
        {
          "output_type": "stream",
          "name": "stdout",
          "text": [
            "3524\n",
            "4629\n",
            "6606\n",
            "6607\n",
            "6608\n",
            "6609\n",
            "6610\n",
            "6611\n",
            "6719\n",
            "6720\n"
          ]
        }
      ]
    },
    {
      "cell_type": "code",
      "source": [
        "#normalize data\n",
        "data = data.astype('float32')/255.0"
      ],
      "metadata": {
        "id": "TyQ564hXAxNh"
      },
      "execution_count": null,
      "outputs": []
    },
    {
      "cell_type": "code",
      "source": [
        "data.shape"
      ],
      "metadata": {
        "id": "3Y5q37Ny9YZ4",
        "colab": {
          "base_uri": "https://localhost:8080/"
        },
        "outputId": "ba8882f7-9691-45f6-f0b6-fb19a7fa1ab2"
      },
      "execution_count": null,
      "outputs": [
        {
          "output_type": "execute_result",
          "data": {
            "text/plain": [
              "(3941, 96, 1406)"
            ]
          },
          "metadata": {},
          "execution_count": 12
        }
      ]
    },
    {
      "cell_type": "code",
      "source": [
        "# Reshape data to include the channel dimension\n",
        "data = data.reshape((-1, 96, 1406, 1))\n",
        "\n",
        "# Split data into training and validation sets\n",
        "X_train, X_val, y_train, y_val = train_test_split(data, pd.get_dummies(df['genre']), test_size=0.1, random_state=42)"
      ],
      "metadata": {
        "id": "avcBh83EUv2h"
      },
      "execution_count": null,
      "outputs": []
    },
    {
      "cell_type": "code",
      "source": [
        "# Initialize ImageDataGenerator with necessary augmentations\n",
        "datagen = ImageDataGenerator(\n",
        "    width_shift_range=0.2,\n",
        "    height_shift_range=0.2\n",
        ")\n",
        "\n",
        "datagen.fit(X_train)"
      ],
      "metadata": {
        "id": "d7GwoDyDUvyv"
      },
      "execution_count": null,
      "outputs": []
    },
    {
      "cell_type": "code",
      "source": [
        "'''creates a custom data generator for data augmentation and adds gaussian noise to 20% of the training data and mixup to all'''\n",
        "\n",
        "# # Define a Mixup function\n",
        "# def mixup(X, y, alpha=0.2):\n",
        "#     if np.random.rand() < 0.2:  # Apply Mixup to 20% of the images\n",
        "#         batch_size = X.shape[0]\n",
        "#         l = np.random.beta(alpha, alpha, batch_size)\n",
        "#         X_l = l.reshape(batch_size, 1, 1, 1)\n",
        "#         y_l = l.reshape(batch_size, 1)\n",
        "\n",
        "#         X_mixup = X * X_l + X[::-1] * (1 - X_l)\n",
        "#         y_mixup = y * y_l + y[::-1] * (1 - y_l)\n",
        "#         return X_mixup, y_mixup\n",
        "#     else:\n",
        "#         return X, y\n",
        "\n",
        "# # Create an augmenter for Gaussian noise\n",
        "# gaussian_noise = iaa.AdditiveGaussianNoise(scale=0.01 * 255)\n",
        "\n",
        "# # Define the custom generator\n",
        "# def custom_generator(datagen, gaussian_noise, X_train, Y_train, batch_size):\n",
        "#     generator = datagen.flow(X_train, Y_train, batch_size=batch_size)\n",
        "#     while True:\n",
        "#         X_batch, y_batch = next(generator)\n",
        "\n",
        "#         # Decide whether to apply Gaussian noise\n",
        "#         if np.random.rand() < 0.2:  # Apply Gaussian noise to 20% of the images\n",
        "#             X_batch = gaussian_noise.augment_images(X_batch)\n",
        "\n",
        "#         # Apply Mixup\n",
        "#         X_batch, y_batch = mixup(X_batch, y_batch)\n",
        "#         yield X_batch, y_batch\n",
        "\n",
        "# # Usage example\n",
        "# batch_size = 32\n",
        "# alpha = 0.2  # Adjust Mixup's alpha value if needed\n",
        "# augmented_data_gen = custom_generator(datagen, gaussian_noise, X_train, y_train, batch_size)"
      ],
      "metadata": {
        "id": "LGRcn6wT8CXK"
      },
      "execution_count": null,
      "outputs": []
    },
    {
      "cell_type": "code",
      "source": [
        "# Define num_classes based on the number of unique genres\n",
        "num_classes = y_train.shape[1]\n",
        "num_classes"
      ],
      "metadata": {
        "id": "rKrZwkL4xXc7"
      },
      "execution_count": null,
      "outputs": []
    },
    {
      "cell_type": "code",
      "source": [
        "#l2 regularisation\n",
        "ltwo_reg = 0.0\n",
        "\n",
        "# Initialize the model\n",
        "model = Sequential()\n",
        "\n",
        "#Convolution layers\n",
        "model.add(Conv2D(32, (3, 3), kernel_regularizer=l2(ltwo_reg), input_shape=(96, 1406, 1), use_bias=False))\n",
        "model.add(BatchNormalization())\n",
        "model.add(Activation('relu'))\n",
        "model.add(MaxPooling2D((2, 2)))\n",
        "\n",
        "model.add(Conv2D(64, (3, 3), kernel_regularizer=l2(ltwo_reg), use_bias=False))\n",
        "model.add(BatchNormalization())\n",
        "model.add(Activation('relu'))\n",
        "model.add(MaxPooling2D((2, 2)))\n",
        "\n",
        "model.add(Conv2D(128, (3, 3), kernel_regularizer=l2(ltwo_reg), use_bias=False))\n",
        "model.add(BatchNormalization())\n",
        "model.add(Activation('relu'))\n",
        "model.add(MaxPooling2D((2, 2)))\n",
        "\n",
        "# Flatten layer\n",
        "model.add(Flatten())\n",
        "\n",
        "# Fully connected layers with L2 regularization\n",
        "model.add(Dense(128, kernel_regularizer=l2(ltwo_reg), use_bias=False))\n",
        "model.add(BatchNormalization())\n",
        "model.add(Activation('relu'))\n",
        "model.add(Dropout(0.5))\n",
        "\n",
        "# Output layer\n",
        "model.add(Dense(num_classes, activation='softmax', kernel_regularizer=l2(ltwo_reg)))\n",
        "\n",
        "# Compile the model\n",
        "model.compile(optimizer='adam', loss='categorical_crossentropy', metrics=['accuracy'])\n",
        "\n",
        "# Print the model summary\n",
        "model.summary()"
      ],
      "metadata": {
        "colab": {
          "base_uri": "https://localhost:8080/"
        },
        "id": "GYYjn2sVIz8f",
        "outputId": "c68e11da-a1fa-49e1-f550-f121e27f777a"
      },
      "execution_count": null,
      "outputs": [
        {
          "output_type": "stream",
          "name": "stdout",
          "text": [
            "Model: \"sequential\"\n",
            "_________________________________________________________________\n",
            " Layer (type)                Output Shape              Param #   \n",
            "=================================================================\n",
            " conv2d (Conv2D)             (None, 94, 1404, 32)      288       \n",
            "                                                                 \n",
            " batch_normalization (Batch  (None, 94, 1404, 32)      128       \n",
            " Normalization)                                                  \n",
            "                                                                 \n",
            " activation (Activation)     (None, 94, 1404, 32)      0         \n",
            "                                                                 \n",
            " max_pooling2d (MaxPooling2  (None, 47, 702, 32)       0         \n",
            " D)                                                              \n",
            "                                                                 \n",
            " conv2d_1 (Conv2D)           (None, 45, 700, 64)       18432     \n",
            "                                                                 \n",
            " batch_normalization_1 (Bat  (None, 45, 700, 64)       256       \n",
            " chNormalization)                                                \n",
            "                                                                 \n",
            " activation_1 (Activation)   (None, 45, 700, 64)       0         \n",
            "                                                                 \n",
            " max_pooling2d_1 (MaxPoolin  (None, 22, 350, 64)       0         \n",
            " g2D)                                                            \n",
            "                                                                 \n",
            " conv2d_2 (Conv2D)           (None, 20, 348, 128)      73728     \n",
            "                                                                 \n",
            " batch_normalization_2 (Bat  (None, 20, 348, 128)      512       \n",
            " chNormalization)                                                \n",
            "                                                                 \n",
            " activation_2 (Activation)   (None, 20, 348, 128)      0         \n",
            "                                                                 \n",
            " max_pooling2d_2 (MaxPoolin  (None, 10, 174, 128)      0         \n",
            " g2D)                                                            \n",
            "                                                                 \n",
            " flatten (Flatten)           (None, 222720)            0         \n",
            "                                                                 \n",
            " dense (Dense)               (None, 128)               28508160  \n",
            "                                                                 \n",
            " batch_normalization_3 (Bat  (None, 128)               512       \n",
            " chNormalization)                                                \n",
            "                                                                 \n",
            " activation_3 (Activation)   (None, 128)               0         \n",
            "                                                                 \n",
            " dropout (Dropout)           (None, 128)               0         \n",
            "                                                                 \n",
            " dense_1 (Dense)             (None, 10)                1290      \n",
            "                                                                 \n",
            "=================================================================\n",
            "Total params: 28603306 (109.11 MB)\n",
            "Trainable params: 28602602 (109.11 MB)\n",
            "Non-trainable params: 704 (2.75 KB)\n",
            "_________________________________________________________________\n"
          ]
        }
      ]
    },
    {
      "cell_type": "code",
      "source": [
        "# Train model\n",
        "history = model.fit(X_train, y_train, batch_size=32, epochs=10, validation_data=(X_val, y_val))\n",
        "\n",
        "# history = model.fit(\n",
        "#     augmented_data_gen,\n",
        "#     steps_per_epoch=len(X_train) // batch_size,\n",
        "#     epochs=10,  # Number of epochs to train for\n",
        "#     validation_data=(X_val, y_val)\n",
        "# )"
      ],
      "metadata": {
        "colab": {
          "base_uri": "https://localhost:8080/"
        },
        "id": "thR_D7ujUvtV",
        "outputId": "3c44b786-2079-4be6-b7fc-6c9d8de1d6f4"
      },
      "execution_count": null,
      "outputs": [
        {
          "output_type": "stream",
          "name": "stdout",
          "text": [
            "Epoch 1/10\n",
            "111/111 [==============================] - 13s 62ms/step - loss: 2.2613 - accuracy: 0.2685 - val_loss: 2.1117 - val_accuracy: 0.2329\n",
            "Epoch 2/10\n",
            "111/111 [==============================] - 4s 40ms/step - loss: 1.8785 - accuracy: 0.3613 - val_loss: 2.2699 - val_accuracy: 0.1797\n",
            "Epoch 3/10\n",
            "111/111 [==============================] - 4s 40ms/step - loss: 1.5412 - accuracy: 0.4749 - val_loss: 2.5910 - val_accuracy: 0.2962\n",
            "Epoch 4/10\n",
            "111/111 [==============================] - 4s 39ms/step - loss: 1.1248 - accuracy: 0.6331 - val_loss: 3.1000 - val_accuracy: 0.2380\n",
            "Epoch 5/10\n",
            "111/111 [==============================] - 4s 39ms/step - loss: 0.6864 - accuracy: 0.8003 - val_loss: 3.3956 - val_accuracy: 0.2506\n",
            "Epoch 6/10\n",
            "111/111 [==============================] - 4s 39ms/step - loss: 0.3883 - accuracy: 0.9106 - val_loss: 3.6677 - val_accuracy: 0.2354\n",
            "Epoch 7/10\n",
            "111/111 [==============================] - 4s 39ms/step - loss: 0.2090 - accuracy: 0.9645 - val_loss: 3.0142 - val_accuracy: 0.2962\n",
            "Epoch 8/10\n",
            "111/111 [==============================] - 4s 39ms/step - loss: 0.1323 - accuracy: 0.9800 - val_loss: 3.6910 - val_accuracy: 0.3266\n",
            "Epoch 9/10\n",
            "111/111 [==============================] - 4s 39ms/step - loss: 0.0956 - accuracy: 0.9882 - val_loss: 2.8095 - val_accuracy: 0.3089\n",
            "Epoch 10/10\n",
            "111/111 [==============================] - 4s 39ms/step - loss: 0.0675 - accuracy: 0.9932 - val_loss: 2.2287 - val_accuracy: 0.3747\n"
          ]
        }
      ]
    },
    {
      "cell_type": "code",
      "source": [
        "# Train for 10 more epochs\n",
        "history_20 = model.fit(X_train, y_train, batch_size=32, epochs=20, validation_data=(X_val, y_val), initial_epoch=10)\n",
        "\n",
        "# history_20 = model.fit(\n",
        "#     augmented_data_gen,\n",
        "#     steps_per_epoch=len(X_train) // batch_size,\n",
        "#     epochs=20,\n",
        "#     validation_data=(X_val, y_val),\n",
        "#     initial_epoch=10\n",
        "# )"
      ],
      "metadata": {
        "colab": {
          "base_uri": "https://localhost:8080/"
        },
        "id": "n0eSqbAwhDTS",
        "outputId": "79105061-bf68-4eb2-9988-c100d2e85c50"
      },
      "execution_count": null,
      "outputs": [
        {
          "output_type": "stream",
          "name": "stdout",
          "text": [
            "Epoch 11/20\n",
            "111/111 [==============================] - 5s 43ms/step - loss: 0.0537 - accuracy: 0.9938 - val_loss: 2.6306 - val_accuracy: 0.3342\n",
            "Epoch 12/20\n",
            "111/111 [==============================] - 4s 40ms/step - loss: 0.0418 - accuracy: 0.9963 - val_loss: 1.9954 - val_accuracy: 0.4051\n",
            "Epoch 13/20\n",
            "111/111 [==============================] - 4s 40ms/step - loss: 0.0331 - accuracy: 0.9980 - val_loss: 2.8565 - val_accuracy: 0.3190\n",
            "Epoch 14/20\n",
            "111/111 [==============================] - 4s 39ms/step - loss: 0.0302 - accuracy: 0.9983 - val_loss: 2.6623 - val_accuracy: 0.3519\n",
            "Epoch 15/20\n",
            "111/111 [==============================] - 4s 39ms/step - loss: 0.0307 - accuracy: 0.9955 - val_loss: 4.4867 - val_accuracy: 0.2000\n",
            "Epoch 16/20\n",
            "111/111 [==============================] - 4s 39ms/step - loss: 0.0420 - accuracy: 0.9932 - val_loss: 4.9088 - val_accuracy: 0.2608\n",
            "Epoch 17/20\n",
            "111/111 [==============================] - 4s 39ms/step - loss: 0.0392 - accuracy: 0.9949 - val_loss: 2.6818 - val_accuracy: 0.3646\n",
            "Epoch 18/20\n",
            "111/111 [==============================] - 4s 39ms/step - loss: 0.0305 - accuracy: 0.9949 - val_loss: 2.9361 - val_accuracy: 0.2785\n",
            "Epoch 19/20\n",
            "111/111 [==============================] - 4s 39ms/step - loss: 0.0290 - accuracy: 0.9952 - val_loss: 2.4120 - val_accuracy: 0.3772\n",
            "Epoch 20/20\n",
            "111/111 [==============================] - 4s 39ms/step - loss: 0.0372 - accuracy: 0.9946 - val_loss: 3.5942 - val_accuracy: 0.2101\n"
          ]
        }
      ]
    },
    {
      "cell_type": "code",
      "source": [
        "# Train for 10 more epochs\n",
        "history_30 = model.fit(X_train, y_train, batch_size=32, epochs=30, validation_data=(X_val, y_val), initial_epoch=20)\n",
        "\n",
        "# history_30 = model.fit(\n",
        "#     augmented_data_gen,\n",
        "#     steps_per_epoch=len(X_train) // batch_size,\n",
        "#     epochs=30,\n",
        "#     validation_data=(X_val, y_val),\n",
        "#     initial_epoch=20\n",
        "# )"
      ],
      "metadata": {
        "colab": {
          "base_uri": "https://localhost:8080/"
        },
        "id": "Y9CtIapt2qL1",
        "outputId": "0c6129d3-f2d5-4fe2-c728-e69b878a77cd"
      },
      "execution_count": null,
      "outputs": [
        {
          "output_type": "stream",
          "name": "stdout",
          "text": [
            "Epoch 21/30\n",
            "111/111 [==============================] - 5s 44ms/step - loss: 5.4492 - accuracy: 0.8268 - val_loss: 11.2539 - val_accuracy: 0.1975\n",
            "Epoch 22/30\n",
            "111/111 [==============================] - 4s 39ms/step - loss: 5.1316 - accuracy: 0.8455 - val_loss: 12.0194 - val_accuracy: 0.2886\n",
            "Epoch 23/30\n",
            "111/111 [==============================] - 4s 39ms/step - loss: 4.9907 - accuracy: 0.8460 - val_loss: 19.9921 - val_accuracy: 0.0684\n",
            "Epoch 24/30\n",
            "111/111 [==============================] - 4s 40ms/step - loss: 4.7062 - accuracy: 0.8703 - val_loss: 9.4032 - val_accuracy: 0.2456\n",
            "Epoch 25/30\n",
            "111/111 [==============================] - 4s 40ms/step - loss: 4.4158 - accuracy: 0.8683 - val_loss: 11.1159 - val_accuracy: 0.0734\n",
            "Epoch 26/30\n",
            "111/111 [==============================] - 4s 39ms/step - loss: 4.4783 - accuracy: 0.8618 - val_loss: 10.9115 - val_accuracy: 0.1797\n",
            "Epoch 27/30\n",
            "111/111 [==============================] - 4s 39ms/step - loss: 4.2538 - accuracy: 0.8818 - val_loss: 8.6252 - val_accuracy: 0.2532\n",
            "Epoch 28/30\n",
            "111/111 [==============================] - 4s 39ms/step - loss: 4.0805 - accuracy: 0.8816 - val_loss: 12.3994 - val_accuracy: 0.2152\n",
            "Epoch 29/30\n",
            "111/111 [==============================] - 4s 39ms/step - loss: 3.9377 - accuracy: 0.8937 - val_loss: 12.0010 - val_accuracy: 0.1646\n",
            "Epoch 30/30\n",
            "111/111 [==============================] - 4s 40ms/step - loss: 3.8964 - accuracy: 0.8897 - val_loss: 8.5358 - val_accuracy: 0.1418\n"
          ]
        }
      ]
    },
    {
      "cell_type": "code",
      "source": [
        "# Save the model\n",
        "model.save('/content/drive/MyDrive/colab_data/cnn_4k_l20.002_30ep.keras')"
      ],
      "metadata": {
        "id": "-j4Mkqae20mE"
      },
      "execution_count": null,
      "outputs": []
    },
    {
      "cell_type": "code",
      "source": [
        "# Load the model\n",
        "loaded_model = load_model('/content/drive/MyDrive/colab_data/cnn_3k_l20.004_30ep.keras')"
      ],
      "metadata": {
        "id": "fKRlgmfHI3Js"
      },
      "execution_count": null,
      "outputs": []
    },
    {
      "cell_type": "code",
      "source": [
        "history_40 = model.fit(X_train, y_train, batch_size=32, epochs=40, validation_data=(X_val, y_val), initial_epoch=30)"
      ],
      "metadata": {
        "id": "kLC3tdizX9sm",
        "colab": {
          "base_uri": "https://localhost:8080/"
        },
        "outputId": "0b78bbf2-8b32-4bfc-8a72-91f48317dd46"
      },
      "execution_count": null,
      "outputs": [
        {
          "output_type": "stream",
          "name": "stdout",
          "text": [
            "Epoch 31/40\n",
            "111/111 [==============================] - 5s 44ms/step - loss: 3.7496 - accuracy: 0.8937 - val_loss: 9.3860 - val_accuracy: 0.2380\n",
            "Epoch 32/40\n",
            "111/111 [==============================] - 4s 40ms/step - loss: 3.4590 - accuracy: 0.9027 - val_loss: 11.6678 - val_accuracy: 0.0886\n",
            "Epoch 33/40\n",
            "111/111 [==============================] - 4s 39ms/step - loss: 3.3517 - accuracy: 0.9069 - val_loss: 7.2166 - val_accuracy: 0.2734\n",
            "Epoch 34/40\n",
            "111/111 [==============================] - 4s 39ms/step - loss: 3.6631 - accuracy: 0.8793 - val_loss: 11.9032 - val_accuracy: 0.1949\n",
            "Epoch 35/40\n",
            "111/111 [==============================] - 4s 40ms/step - loss: 3.7137 - accuracy: 0.8973 - val_loss: 9.2522 - val_accuracy: 0.1797\n",
            "Epoch 36/40\n",
            "111/111 [==============================] - 4s 39ms/step - loss: 3.1417 - accuracy: 0.9267 - val_loss: 6.5949 - val_accuracy: 0.2937\n",
            "Epoch 37/40\n",
            "111/111 [==============================] - 4s 39ms/step - loss: 3.1123 - accuracy: 0.9013 - val_loss: 7.9477 - val_accuracy: 0.1848\n",
            "Epoch 38/40\n",
            "111/111 [==============================] - 4s 39ms/step - loss: 3.4312 - accuracy: 0.8971 - val_loss: 6.9173 - val_accuracy: 0.3089\n",
            "Epoch 39/40\n",
            "111/111 [==============================] - 4s 39ms/step - loss: 3.3301 - accuracy: 0.9064 - val_loss: 5.8985 - val_accuracy: 0.3266\n",
            "Epoch 40/40\n",
            "111/111 [==============================] - 4s 40ms/step - loss: 3.0245 - accuracy: 0.9202 - val_loss: 5.7166 - val_accuracy: 0.2962\n"
          ]
        }
      ]
    },
    {
      "cell_type": "code",
      "source": [
        "history_50 = model.fit(X_train, y_train, batch_size=32, epochs=50, validation_data=(X_val, y_val), initial_epoch=40)"
      ],
      "metadata": {
        "id": "npLdJc5HdtQ1",
        "colab": {
          "base_uri": "https://localhost:8080/"
        },
        "outputId": "4a7ad3b5-3d95-482e-e175-e9b3d1584e60"
      },
      "execution_count": null,
      "outputs": [
        {
          "output_type": "stream",
          "name": "stdout",
          "text": [
            "Epoch 41/50\n",
            "111/111 [==============================] - 5s 43ms/step - loss: 2.9596 - accuracy: 0.9239 - val_loss: 8.0174 - val_accuracy: 0.2456\n",
            "Epoch 42/50\n",
            "111/111 [==============================] - 4s 39ms/step - loss: 2.9109 - accuracy: 0.9199 - val_loss: 6.2148 - val_accuracy: 0.2405\n",
            "Epoch 43/50\n",
            "111/111 [==============================] - 4s 39ms/step - loss: 3.0471 - accuracy: 0.9055 - val_loss: 9.0570 - val_accuracy: 0.2835\n",
            "Epoch 44/50\n",
            "111/111 [==============================] - 4s 40ms/step - loss: 3.2646 - accuracy: 0.9033 - val_loss: 11.0493 - val_accuracy: 0.2101\n",
            "Epoch 45/50\n",
            "111/111 [==============================] - 4s 39ms/step - loss: 3.0894 - accuracy: 0.9177 - val_loss: 7.2498 - val_accuracy: 0.1494\n",
            "Epoch 46/50\n",
            "111/111 [==============================] - 4s 39ms/step - loss: 2.7031 - accuracy: 0.9453 - val_loss: 6.2910 - val_accuracy: 0.2937\n",
            "Epoch 47/50\n",
            "111/111 [==============================] - 4s 39ms/step - loss: 2.6221 - accuracy: 0.9188 - val_loss: 8.6745 - val_accuracy: 0.2101\n",
            "Epoch 48/50\n",
            "111/111 [==============================] - 4s 40ms/step - loss: 3.1099 - accuracy: 0.8973 - val_loss: 8.9560 - val_accuracy: 0.1797\n",
            "Epoch 49/50\n",
            "111/111 [==============================] - 4s 39ms/step - loss: 3.2017 - accuracy: 0.9117 - val_loss: 7.8391 - val_accuracy: 0.2076\n",
            "Epoch 50/50\n",
            "111/111 [==============================] - 4s 39ms/step - loss: 2.8001 - accuracy: 0.9241 - val_loss: 6.7203 - val_accuracy: 0.2228\n"
          ]
        }
      ]
    },
    {
      "cell_type": "code",
      "source": [
        "history_60 = model.fit(X_train, y_train, batch_size=32, epochs=60, validation_data=(X_val, y_val), initial_epoch=50)"
      ],
      "metadata": {
        "colab": {
          "base_uri": "https://localhost:8080/"
        },
        "id": "zJnnL33uZzIz",
        "outputId": "54b4908a-3897-4e20-9155-f923e1f2a3d7"
      },
      "execution_count": null,
      "outputs": [
        {
          "output_type": "stream",
          "name": "stdout",
          "text": [
            "Epoch 51/60\n",
            "111/111 [==============================] - 3s 26ms/step - loss: 2.0416 - accuracy: 0.2747 - val_loss: 1.9940 - val_accuracy: 0.2810\n",
            "Epoch 52/60\n",
            "111/111 [==============================] - 3s 23ms/step - loss: 2.0373 - accuracy: 0.2789 - val_loss: 2.0082 - val_accuracy: 0.2734\n",
            "Epoch 53/60\n",
            "111/111 [==============================] - 3s 24ms/step - loss: 2.0372 - accuracy: 0.2764 - val_loss: 1.9827 - val_accuracy: 0.3089\n",
            "Epoch 54/60\n",
            "111/111 [==============================] - 3s 23ms/step - loss: 2.0402 - accuracy: 0.2829 - val_loss: 2.0061 - val_accuracy: 0.2810\n",
            "Epoch 55/60\n",
            "111/111 [==============================] - 3s 24ms/step - loss: 2.0444 - accuracy: 0.2769 - val_loss: 1.9887 - val_accuracy: 0.2987\n",
            "Epoch 56/60\n",
            "111/111 [==============================] - 3s 23ms/step - loss: 2.0383 - accuracy: 0.2735 - val_loss: 1.9983 - val_accuracy: 0.2709\n",
            "Epoch 57/60\n",
            "111/111 [==============================] - 3s 24ms/step - loss: 2.0400 - accuracy: 0.2806 - val_loss: 2.0094 - val_accuracy: 0.2759\n",
            "Epoch 58/60\n",
            "111/111 [==============================] - 3s 24ms/step - loss: 2.0331 - accuracy: 0.2761 - val_loss: 2.0051 - val_accuracy: 0.2962\n",
            "Epoch 59/60\n",
            "111/111 [==============================] - 3s 24ms/step - loss: 2.0408 - accuracy: 0.2766 - val_loss: 2.0064 - val_accuracy: 0.2582\n",
            "Epoch 60/60\n",
            "111/111 [==============================] - 3s 24ms/step - loss: 2.0480 - accuracy: 0.2764 - val_loss: 1.9858 - val_accuracy: 0.2886\n"
          ]
        }
      ]
    },
    {
      "cell_type": "code",
      "source": [
        "history_70 = model.fit(X_train, y_train, batch_size=32, epochs=70, validation_data=(X_val, y_val), initial_epoch=60)"
      ],
      "metadata": {
        "colab": {
          "base_uri": "https://localhost:8080/"
        },
        "id": "5hacpAreZ6q4",
        "outputId": "b7fd6c46-a650-483e-c04a-d035bd151be2"
      },
      "execution_count": null,
      "outputs": [
        {
          "output_type": "stream",
          "name": "stdout",
          "text": [
            "Epoch 61/70\n",
            "111/111 [==============================] - 3s 26ms/step - loss: 2.0312 - accuracy: 0.2769 - val_loss: 1.9994 - val_accuracy: 0.2582\n",
            "Epoch 62/70\n",
            "111/111 [==============================] - 3s 24ms/step - loss: 2.0192 - accuracy: 0.2902 - val_loss: 1.9918 - val_accuracy: 0.2911\n",
            "Epoch 63/70\n",
            "111/111 [==============================] - 3s 24ms/step - loss: 2.0192 - accuracy: 0.2860 - val_loss: 1.9970 - val_accuracy: 0.2430\n",
            "Epoch 64/70\n",
            "111/111 [==============================] - 3s 24ms/step - loss: 2.0220 - accuracy: 0.2862 - val_loss: 2.0101 - val_accuracy: 0.2557\n",
            "Epoch 65/70\n",
            "111/111 [==============================] - 3s 24ms/step - loss: 2.0225 - accuracy: 0.2893 - val_loss: 1.9993 - val_accuracy: 0.2430\n",
            "Epoch 66/70\n",
            "111/111 [==============================] - 3s 24ms/step - loss: 2.0168 - accuracy: 0.2848 - val_loss: 2.0141 - val_accuracy: 0.2582\n",
            "Epoch 67/70\n",
            "111/111 [==============================] - 3s 24ms/step - loss: 2.0195 - accuracy: 0.2814 - val_loss: 1.9993 - val_accuracy: 0.2608\n",
            "Epoch 68/70\n",
            "111/111 [==============================] - 3s 24ms/step - loss: 2.0234 - accuracy: 0.2772 - val_loss: 1.9799 - val_accuracy: 0.2658\n",
            "Epoch 69/70\n",
            "111/111 [==============================] - 3s 24ms/step - loss: 2.0203 - accuracy: 0.2772 - val_loss: 2.0063 - val_accuracy: 0.2456\n",
            "Epoch 70/70\n",
            "111/111 [==============================] - 3s 24ms/step - loss: 2.0178 - accuracy: 0.2862 - val_loss: 1.9906 - val_accuracy: 0.2785\n"
          ]
        }
      ]
    },
    {
      "cell_type": "code",
      "source": [
        "history_80 = model.fit(X_train, y_train, batch_size=32, epochs=80, validation_data=(X_val, y_val), initial_epoch=70)"
      ],
      "metadata": {
        "colab": {
          "base_uri": "https://localhost:8080/"
        },
        "id": "OvvS19vpaPhx",
        "outputId": "2ad9862e-9a38-45d7-c230-d3399461270e"
      },
      "execution_count": null,
      "outputs": [
        {
          "output_type": "stream",
          "name": "stdout",
          "text": [
            "Epoch 71/80\n",
            "132/132 [==============================] - 3s 26ms/step - loss: 2.2517 - accuracy: 0.3314 - val_loss: 2.3833 - val_accuracy: 0.2869\n",
            "Epoch 72/80\n",
            "132/132 [==============================] - 3s 23ms/step - loss: 2.2374 - accuracy: 0.3417 - val_loss: 2.3816 - val_accuracy: 0.2719\n",
            "Epoch 73/80\n",
            "132/132 [==============================] - 3s 24ms/step - loss: 2.2301 - accuracy: 0.3469 - val_loss: 2.3742 - val_accuracy: 0.2998\n",
            "Epoch 74/80\n",
            "132/132 [==============================] - 3s 24ms/step - loss: 2.2322 - accuracy: 0.3505 - val_loss: 2.4081 - val_accuracy: 0.2976\n",
            "Epoch 75/80\n",
            "132/132 [==============================] - 3s 23ms/step - loss: 2.2261 - accuracy: 0.3543 - val_loss: 2.3952 - val_accuracy: 0.2976\n",
            "Epoch 76/80\n",
            "132/132 [==============================] - 3s 23ms/step - loss: 2.2269 - accuracy: 0.3529 - val_loss: 2.3854 - val_accuracy: 0.2998\n",
            "Epoch 77/80\n",
            "132/132 [==============================] - 3s 23ms/step - loss: 2.2525 - accuracy: 0.3505 - val_loss: 2.4307 - val_accuracy: 0.3019\n",
            "Epoch 78/80\n",
            "132/132 [==============================] - 3s 24ms/step - loss: 2.2374 - accuracy: 0.3503 - val_loss: 2.4386 - val_accuracy: 0.2827\n",
            "Epoch 79/80\n",
            "132/132 [==============================] - 3s 23ms/step - loss: 2.2314 - accuracy: 0.3603 - val_loss: 2.4302 - val_accuracy: 0.2805\n",
            "Epoch 80/80\n",
            "132/132 [==============================] - 3s 23ms/step - loss: 2.2296 - accuracy: 0.3693 - val_loss: 2.4591 - val_accuracy: 0.3041\n"
          ]
        }
      ]
    },
    {
      "cell_type": "code",
      "source": [
        "history_90 = model.fit(X_train, y_train, batch_size=32, epochs=90, validation_data=(X_val, y_val), initial_epoch=80)"
      ],
      "metadata": {
        "colab": {
          "base_uri": "https://localhost:8080/"
        },
        "id": "09G373aMcHbw",
        "outputId": "dbcb7a5e-6e49-41fd-f18c-a8be33f31287"
      },
      "execution_count": null,
      "outputs": [
        {
          "output_type": "stream",
          "name": "stdout",
          "text": [
            "Epoch 81/90\n",
            "118/118 [==============================] - 3s 26ms/step - loss: 1.9378 - accuracy: 0.4231 - val_loss: 2.1919 - val_accuracy: 0.3357\n",
            "Epoch 82/90\n",
            "118/118 [==============================] - 3s 23ms/step - loss: 1.9393 - accuracy: 0.4173 - val_loss: 2.1985 - val_accuracy: 0.3141\n",
            "Epoch 83/90\n",
            "118/118 [==============================] - 3s 24ms/step - loss: 1.9059 - accuracy: 0.4378 - val_loss: 2.2421 - val_accuracy: 0.3213\n",
            "Epoch 84/90\n",
            "118/118 [==============================] - 3s 23ms/step - loss: 1.9274 - accuracy: 0.4357 - val_loss: 2.2661 - val_accuracy: 0.3118\n",
            "Epoch 85/90\n",
            "118/118 [==============================] - 3s 24ms/step - loss: 1.8964 - accuracy: 0.4479 - val_loss: 2.2121 - val_accuracy: 0.3261\n",
            "Epoch 86/90\n",
            "118/118 [==============================] - 3s 24ms/step - loss: 1.9086 - accuracy: 0.4407 - val_loss: 2.2428 - val_accuracy: 0.3213\n",
            "Epoch 87/90\n",
            "118/118 [==============================] - 3s 24ms/step - loss: 1.9228 - accuracy: 0.4346 - val_loss: 2.2323 - val_accuracy: 0.3525\n",
            "Epoch 88/90\n",
            "118/118 [==============================] - 3s 24ms/step - loss: 1.9050 - accuracy: 0.4511 - val_loss: 2.2561 - val_accuracy: 0.3381\n",
            "Epoch 89/90\n",
            "118/118 [==============================] - 3s 24ms/step - loss: 1.8949 - accuracy: 0.4586 - val_loss: 2.2985 - val_accuracy: 0.3213\n",
            "Epoch 90/90\n",
            "118/118 [==============================] - 3s 24ms/step - loss: 1.8924 - accuracy: 0.4583 - val_loss: 2.3184 - val_accuracy: 0.2950\n"
          ]
        }
      ]
    },
    {
      "cell_type": "code",
      "source": [
        "history_100 = model.fit(X_train, y_train, batch_size=32, epochs=100, validation_data=(X_val, y_val), initial_epoch=90)"
      ],
      "metadata": {
        "colab": {
          "base_uri": "https://localhost:8080/"
        },
        "id": "aDGVknNScX1g",
        "outputId": "4d98e7da-ec81-468c-f040-07cb08a4a6e9"
      },
      "execution_count": null,
      "outputs": [
        {
          "output_type": "stream",
          "name": "stdout",
          "text": [
            "Epoch 91/100\n",
            "118/118 [==============================] - 3s 26ms/step - loss: 1.9095 - accuracy: 0.4610 - val_loss: 2.2958 - val_accuracy: 0.3189\n",
            "Epoch 92/100\n",
            "118/118 [==============================] - 3s 23ms/step - loss: 1.8840 - accuracy: 0.4639 - val_loss: 2.3593 - val_accuracy: 0.3357\n",
            "Epoch 93/100\n",
            "118/118 [==============================] - 3s 23ms/step - loss: 1.8978 - accuracy: 0.4642 - val_loss: 2.3608 - val_accuracy: 0.3285\n",
            "Epoch 94/100\n",
            "118/118 [==============================] - 3s 23ms/step - loss: 1.8750 - accuracy: 0.4730 - val_loss: 2.3440 - val_accuracy: 0.3237\n",
            "Epoch 95/100\n",
            "118/118 [==============================] - 3s 23ms/step - loss: 1.8750 - accuracy: 0.4676 - val_loss: 2.3484 - val_accuracy: 0.3213\n",
            "Epoch 96/100\n",
            "118/118 [==============================] - 3s 23ms/step - loss: 1.8704 - accuracy: 0.4828 - val_loss: 2.3765 - val_accuracy: 0.3022\n",
            "Epoch 97/100\n",
            "118/118 [==============================] - 3s 23ms/step - loss: 1.8757 - accuracy: 0.4679 - val_loss: 2.3566 - val_accuracy: 0.3046\n",
            "Epoch 98/100\n",
            "118/118 [==============================] - 3s 23ms/step - loss: 1.8717 - accuracy: 0.4751 - val_loss: 2.4322 - val_accuracy: 0.2782\n",
            "Epoch 99/100\n",
            "118/118 [==============================] - 3s 24ms/step - loss: 1.8689 - accuracy: 0.4786 - val_loss: 2.4019 - val_accuracy: 0.3046\n",
            "Epoch 100/100\n",
            "118/118 [==============================] - 3s 24ms/step - loss: 1.8541 - accuracy: 0.4873 - val_loss: 2.4684 - val_accuracy: 0.3213\n"
          ]
        }
      ]
    },
    {
      "cell_type": "code",
      "source": [
        "# last val loss and val acc\n",
        "loss, accuracy = model.evaluate(X_val, y_val)\n",
        "print(f'Validation Loss: {loss}, Validation Accuracy: {accuracy}')"
      ],
      "metadata": {
        "colab": {
          "base_uri": "https://localhost:8080/"
        },
        "id": "KHL436svUvrc",
        "outputId": "6e679035-2cec-4156-fec4-f20cff072ca6"
      },
      "execution_count": null,
      "outputs": [
        {
          "output_type": "stream",
          "name": "stdout",
          "text": [
            "14/14 [==============================] - 0s 11ms/step - loss: 2.4684 - accuracy: 0.3213\n",
            "Validation Loss: 2.4684324264526367, Validation Accuracy: 0.32134291529655457\n"
          ]
        }
      ]
    },
    {
      "cell_type": "code",
      "source": [
        "# Concatenate the old and new history\n",
        "full_history = {}\n",
        "for key in history.history.keys():\n",
        "    # full_history[key] = history.history[key] + history_20.history[key] + history_30.history[key] + history_40.history[key] + history_50.history[key] + history_60.history[key] + history_70.history[key] + history_80.history[key] + history_90.history[key] + history_100.history[key]\n",
        "    full_history[key] = history.history[key] + history_20.history[key]"
      ],
      "metadata": {
        "id": "vTTxD_MshbJw"
      },
      "execution_count": null,
      "outputs": []
    },
    {
      "cell_type": "code",
      "source": [
        "# Plot training loss\n",
        "plt.plot(full_history['loss'], label='Training Loss')\n",
        "plt.plot(full_history['val_loss'], label='Validation Loss')\n",
        "plt.title('Training and Validation Loss')\n",
        "plt.xlabel('Epoch')\n",
        "plt.ylabel('Loss')\n",
        "plt.legend()\n",
        "plt.show()\n",
        "\n",
        "# Plot training accuracy\n",
        "plt.plot(full_history['accuracy'], label='Training Accuracy')\n",
        "plt.plot(full_history['val_accuracy'], label='Validation Accuracy')\n",
        "plt.title('Training and Validation Accuracy')\n",
        "plt.xlabel('Epoch')\n",
        "plt.ylabel('Accuracy')\n",
        "plt.legend()\n",
        "plt.show()\n"
      ],
      "metadata": {
        "id": "nGcI_J4kCThE",
        "colab": {
          "base_uri": "https://localhost:8080/",
          "height": 927
        },
        "outputId": "2361faf3-d743-4fca-96f1-954a02a0b0a5"
      },
      "execution_count": null,
      "outputs": [
        {
          "output_type": "display_data",
          "data": {
            "text/plain": [
              "<Figure size 640x480 with 1 Axes>"
            ],
            "image/png": "[encoded data removed]"
          },
          "metadata": {}
        },
        {
          "output_type": "display_data",
          "data": {
            "text/plain": [
              "<Figure size 640x480 with 1 Axes>"
            ],
            "image/png": "[encoded data removed]"
          },
          "metadata": {}
        }
      ]
    },
    {
      "cell_type": "code",
      "source": [],
      "metadata": {
        "id": "z_975FQzQtvO"
      },
      "execution_count": null,
      "outputs": []
    },
    {
      "cell_type": "code",
      "source": [],
      "metadata": {
        "id": "FrCroE-OSojF"
      },
      "execution_count": null,
      "outputs": []
    },
    {
      "cell_type": "code",
      "source": [],
      "metadata": {
        "id": "RwM0_-ZySZG7"
      },
      "execution_count": null,
      "outputs": []
    },
    {
      "cell_type": "code",
      "source": [],
      "metadata": {
        "id": "PtiA9Wyf80mx"
      },
      "execution_count": null,
      "outputs": []
    },
    {
      "cell_type": "code",
      "source": [],
      "metadata": {
        "id": "qFnCvLu080jU"
      },
      "execution_count": null,
      "outputs": []
    },
    {
      "cell_type": "code",
      "source": [],
      "metadata": {
        "id": "FbCDfitq80gA"
      },
      "execution_count": null,
      "outputs": []
    },
    {
      "cell_type": "code",
      "source": [],
      "metadata": {
        "id": "jlnD8GB880PV"
      },
      "execution_count": null,
      "outputs": []
    },
    {
      "cell_type": "code",
      "source": [],
      "metadata": {
        "id": "rw9ulPeg80L9"
      },
      "execution_count": null,
      "outputs": []
    },
    {
      "cell_type": "code",
      "source": [],
      "metadata": {
        "id": "bbTduTJlSZDZ"
      },
      "execution_count": null,
      "outputs": []
    },
    {
      "cell_type": "code",
      "source": [],
      "metadata": {
        "id": "SVpRcKz3SZAb"
      },
      "execution_count": null,
      "outputs": []
    },
    {
      "cell_type": "code",
      "source": [
        "# import matplotlib.pyplot as plt\n",
        "\n",
        "# # Define the data\n",
        "# epochs = list(range(1, 31))  # Assuming 30 epochs\n",
        "# train_loss = [3.1024, 2.3673, 2.2814, 2.2056, 2.1723, 2.1417, 2.1223, 2.1314, 2.1052, 2.1025, 2.0961, 2.0911, 2.0806, 2.1007, 2.0791, 2.0792, 2.0732, 2.0681, 2.0666, 2.0602, 2.0665, 2.0690, 2.0689, 2.0640, 2.0514, 2.0593, 2.0629, 2.0557, 2.0695, 2.0646]\n",
        "# val_loss = [2.3848, 2.2317, 2.1796, 2.1162, 2.0936, 2.0726, 2.0700, 2.0816, 2.1067, 2.0504, 2.0372, 2.0261, 2.0269, 2.0264, 2.0271, 2.0361, 2.0115, 2.0132, 1.9988, 2.0171, 2.0062, 2.0093, 2.0190, 2.0003, 1.9912, 2.0077, 2.0126, 1.9861, 2.0034, 2.0032]\n",
        "# train_accuracy = [0.2343, 0.2407, 0.2444, 0.2415, 0.2464, 0.2577, 0.2556, 0.2569, 0.2593, 0.2782, 0.2621, 0.2754, 0.2625, 0.2681, 0.2839, 0.2762, 0.2730, 0.2815, 0.2806, 0.2786, 0.2774, 0.2750, 0.2810, 0.2742, 0.2843, 0.2738, 0.2742, 0.2766, 0.2815, 0.2802]\n",
        "# val_accuracy = [0.2560, 0.2609, 0.2754, 0.2593, 0.2625, 0.2609, 0.2705, 0.2802, 0.2609, 0.2271, 0.2866, 0.2754, 0.2882, 0.2818, 0.2915, 0.2866, 0.2915, 0.2995, 0.3043, 0.3060, 0.2947, 0.2995, 0.2866, 0.3027, 0.3124, 0.3043, 0.3060, 0.3140, 0.2963, 0.2995]\n",
        "\n",
        "# # Plot training & validation accuracy values\n",
        "# plt.figure(figsize=(12, 6))\n",
        "# plt.subplot(1, 2, 1)\n",
        "# plt.plot(epochs, train_accuracy, label='Training Accuracy')\n",
        "# plt.plot(epochs, val_accuracy, label='Validation Accuracy')\n",
        "# plt.title('Model Accuracy')\n",
        "# plt.xlabel('Epoch')\n",
        "# plt.ylabel('Accuracy')\n",
        "# plt.legend()\n",
        "\n",
        "# # Plot training & validation loss values\n",
        "# plt.subplot(1, 2, 2)\n",
        "# plt.plot(epochs, train_loss, label='Training Loss')\n",
        "# plt.plot(epochs, val_loss, label='Validation Loss')\n",
        "# plt.title('Model Loss')\n",
        "# plt.xlabel('Epoch')\n",
        "# plt.ylabel('Loss')\n",
        "# plt.legend()\n",
        "\n",
        "# plt.tight_layout()\n",
        "# plt.show()\n"
      ],
      "metadata": {
        "colab": {
          "base_uri": "https://localhost:8080/",
          "height": 591
        },
        "id": "_MXKl7KEJiBd",
        "outputId": "67406196-8738-43d4-c2b0-8342c559baa4"
      },
      "execution_count": null,
      "outputs": [
        {
          "output_type": "display_data",
          "data": {
            "text/plain": [
              "<Figure size 1200x600 with 2 Axes>"
            ],
            "image/png": "[encoded data removed]"
          },
          "metadata": {}
        }
      ]
    },
    {
      "cell_type": "code",
      "source": [
        "# # Extend the data\n",
        "# epochs.extend(list(range(31, 41)))\n",
        "# train_loss.extend([2.0558, 2.0505, 2.0560, 2.0447, 2.0454, 2.0497, 2.0410, 2.0472, 2.0453, 2.0478])\n",
        "# val_loss.extend([1.9879, 1.9850, 1.9891, 1.9840, 2.0198, 1.9872, 1.9954, 1.9865, 1.9993, 1.9872])\n",
        "# train_accuracy.extend([0.2891, 0.2823, 0.2847, 0.2653, 0.2891, 0.2750, 0.2730, 0.2851, 0.2835, 0.2871])\n",
        "# val_accuracy.extend([0.3156, 0.3060, 0.3124, 0.3060, 0.3043, 0.3011, 0.2963, 0.3092, 0.3124, 0.3060])\n",
        "\n",
        "# # Plot the data\n",
        "# import matplotlib.pyplot as plt\n",
        "\n",
        "# plt.figure(figsize=(12, 6))\n",
        "\n",
        "# # Loss plot\n",
        "# plt.subplot(1, 2, 1)\n",
        "# plt.plot(epochs, train_loss, label='Training Loss')\n",
        "# plt.plot(epochs, val_loss, label='Validation Loss')\n",
        "# plt.title('Training and Validation Loss')\n",
        "# plt.xlabel('Epochs')\n",
        "# plt.ylabel('Loss')\n",
        "# plt.legend()\n",
        "\n",
        "# # Accuracy plot\n",
        "# plt.subplot(1, 2, 2)\n",
        "# plt.plot(epochs, train_accuracy, label='Training Accuracy')\n",
        "# plt.plot(epochs, val_accuracy, label='Validation Accuracy')\n",
        "# plt.title('Training and Validation Accuracy')\n",
        "# plt.xlabel('Epochs')\n",
        "# plt.ylabel('Accuracy')\n",
        "# plt.legend()\n",
        "\n",
        "# plt.tight_layout()\n",
        "# plt.show()\n"
      ],
      "metadata": {
        "id": "MzUEd7OZDNVy",
        "outputId": "cb0b9002-5f7b-4fd0-e8bf-06bab38e480d",
        "colab": {
          "base_uri": "https://localhost:8080/",
          "height": 591
        }
      },
      "execution_count": null,
      "outputs": [
        {
          "output_type": "display_data",
          "data": {
            "text/plain": [
              "<Figure size 1200x600 with 2 Axes>"
            ],
            "image/png": "[encoded data removed]"
          },
          "metadata": {}
        }
      ]
    },
    {
      "cell_type": "code",
      "source": [
        "#This was without l2 reg\n",
        "\n",
        "'''\n",
        "model = Sequential()\n",
        "\n",
        "# Convolutional layers\n",
        "model.add(Conv2D(32, (3, 3), activation='relu', input_shape=(96, 1406, 1)))\n",
        "model.add(MaxPooling2D((2, 2)))\n",
        "model.add(Conv2D(64, (3, 3), activation='relu'))\n",
        "model.add(MaxPooling2D((2, 2)))\n",
        "model.add(Conv2D(128, (3, 3), activation='relu'))\n",
        "model.add(MaxPooling2D((2, 2)))\n",
        "\n",
        "# Flatten layer to transition from convolutional layers to fully connected layers\n",
        "model.add(Flatten())\n",
        "\n",
        "# Fully connected layers\n",
        "model.add(Dense(256, activation='relu'))\n",
        "model.add(Dropout(0.5))  # Introducing dropout for regularization\n",
        "model.add(Dense(128, activation='relu'))\n",
        "model.add(Dropout(0.5))  # Introducing dropout for regularization\n",
        "\n",
        "# Output layer\n",
        "model.add(Dense(num_classes, activation='softmax'))\n",
        "\n",
        "# Compile the model\n",
        "model.compile(optimizer='adam', loss='categorical_crossentropy', metrics=['accuracy'])\n",
        "\n",
        "# Print model summary for an overview of the architecture\n",
        "model.summary()'''"
      ],
      "metadata": {
        "id": "ggjow7E8q8uh"
      },
      "execution_count": null,
      "outputs": []
    },
    {
      "cell_type": "code",
      "source": [
        "'''\n",
        "import keras\n",
        "# Save the entire model to a file\n",
        "model.save('/content/drive/MyDrive/colab_data/simple_cnn_3kmel.keras')\n",
        "\n",
        "# Load the model back\n",
        "loaded_model = keras.models.load_model('/content/drive/MyDrive/colab_data/simple_cnn_3kmel.keras')'''"
      ],
      "metadata": {
        "id": "z1oebNXYDBHi"
      },
      "execution_count": null,
      "outputs": []
    },
    {
      "cell_type": "code",
      "source": [
        "'''\n",
        "# Plot training loss\n",
        "plt.plot(history.history['loss'], label='Training Loss')\n",
        "plt.plot(history.history['val_loss'], label='Validation Loss')\n",
        "plt.title('Training and Validation Loss')\n",
        "plt.xlabel('Epoch')\n",
        "plt.ylabel('Loss')\n",
        "plt.legend()\n",
        "plt.show()\n",
        "\n",
        "# Plot training accuracy\n",
        "plt.plot(history.history['accuracy'], label='Training Accuracy')\n",
        "plt.plot(history.history['val_accuracy'], label='Validation Accuracy')\n",
        "plt.title('Training and Validation Accuracy')\n",
        "plt.xlabel('Epoch')\n",
        "plt.ylabel('Accuracy')\n",
        "plt.legend()\n",
        "plt.show()\n",
        "'''"
      ],
      "metadata": {
        "id": "8FTyK2MCEMAi"
      },
      "execution_count": null,
      "outputs": []
    }
  ]
}