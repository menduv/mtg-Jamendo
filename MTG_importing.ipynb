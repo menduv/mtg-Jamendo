{
  "nbformat": 4,
  "nbformat_minor": 0,
  "metadata": {
    "colab": {
      "provenance": [],
      "authorship_tag": "ABX9TyO7LQAUIEF7bb08QPTVuA0s",
      "include_colab_link": true
    },
    "kernelspec": {
      "name": "python3",
      "display_name": "Python 3"
    },
    "language_info": {
      "name": "python"
    }
  },
  "cells": [
    {
      "cell_type": "markdown",
      "metadata": {
        "id": "view-in-github",
        "colab_type": "text"
      },
      "source": [
        "<a href=\"https://colab.research.google.com/github/menduv/mtg-Jamendo/blob/main/MTG_importing.ipynb\" target=\"_parent\"><img src=\"https://colab.research.google.com/assets/colab-badge.svg\" alt=\"Open In Colab\"/></a>"
      ]
    },
    {
      "cell_type": "code",
      "execution_count": 1,
      "metadata": {
        "colab": {
          "base_uri": "https://localhost:8080/"
        },
        "id": "Xmnc3c1Ffv9d",
        "outputId": "db03e06c-4ec4-4de3-8d75-1ba1676dce10"
      },
      "outputs": [
        {
          "output_type": "stream",
          "name": "stdout",
          "text": [
            "Cloning into 'mtg-jamendo-dataset'...\n",
            "remote: Enumerating objects: 1124, done.\u001b[K\n",
            "remote: Counting objects: 100% (303/303), done.\u001b[K\n",
            "remote: Compressing objects: 100% (168/168), done.\u001b[K\n",
            "remote: Total 1124 (delta 159), reused 258 (delta 130), pack-reused 821\u001b[K\n",
            "Receiving objects: 100% (1124/1124), 42.36 MiB | 21.10 MiB/s, done.\n",
            "Resolving deltas: 100% (644/644), done.\n",
            "Updating files: 100% (186/186), done.\n"
          ]
        }
      ],
      "source": [
        "!git clone https://github.com/MTG/mtg-jamendo-dataset.git"
      ]
    },
    {
      "cell_type": "code",
      "source": [
        "import os"
      ],
      "metadata": {
        "id": "9Q5RBgdggWV_"
      },
      "execution_count": 2,
      "outputs": []
    },
    {
      "cell_type": "code",
      "source": [
        "os.getcwd()"
      ],
      "metadata": {
        "colab": {
          "base_uri": "https://localhost:8080/",
          "height": 35
        },
        "id": "pNOQMM-tgZFF",
        "outputId": "14b2cd67-b430-4b72-8619-feaec165a0a5"
      },
      "execution_count": 2,
      "outputs": [
        {
          "output_type": "execute_result",
          "data": {
            "text/plain": [
              "'/content'"
            ],
            "application/vnd.google.colaboratory.intrinsic+json": {
              "type": "string"
            }
          },
          "metadata": {},
          "execution_count": 2
        }
      ]
    },
    {
      "cell_type": "code",
      "source": [
        "os.chdir('/content')"
      ],
      "metadata": {
        "id": "bYyC-is_gbgV"
      },
      "execution_count": 12,
      "outputs": []
    },
    {
      "cell_type": "code",
      "source": [
        "!python --version"
      ],
      "metadata": {
        "colab": {
          "base_uri": "https://localhost:8080/"
        },
        "id": "7kzkhCdBf4wC",
        "outputId": "10b0e042-2ee5-4ce5-f82b-31a00500faa4"
      },
      "execution_count": 3,
      "outputs": [
        {
          "output_type": "stream",
          "name": "stdout",
          "text": [
            "Python 3.10.12\n"
          ]
        }
      ]
    },
    {
      "cell_type": "code",
      "source": [
        "!sudo apt install python3.10-venv\n",
        "!python3 -m venv trail_venv_1\n",
        "# !source myenv/bin/activate"
      ],
      "metadata": {
        "colab": {
          "base_uri": "https://localhost:8080/"
        },
        "id": "pMbx4bAxg1jz",
        "outputId": "754ccadb-c9ea-4dc7-ec74-fd7a5974a3f1"
      },
      "execution_count": 2,
      "outputs": [
        {
          "output_type": "stream",
          "name": "stdout",
          "text": [
            "Reading package lists... Done\n",
            "Building dependency tree... Done\n",
            "Reading state information... Done\n",
            "The following additional packages will be installed:\n",
            "  python3-pip-whl python3-setuptools-whl\n",
            "The following NEW packages will be installed:\n",
            "  python3-pip-whl python3-setuptools-whl python3.10-venv\n",
            "0 upgraded, 3 newly installed, 0 to remove and 12 not upgraded.\n",
            "Need to get 2,473 kB of archives.\n",
            "After this operation, 2,884 kB of additional disk space will be used.\n",
            "Get:1 http://archive.ubuntu.com/ubuntu jammy-updates/universe amd64 python3-pip-whl all 22.0.2+dfsg-1ubuntu0.4 [1,680 kB]\n",
            "Get:2 http://archive.ubuntu.com/ubuntu jammy-updates/universe amd64 python3-setuptools-whl all 59.6.0-1.2ubuntu0.22.04.1 [788 kB]\n",
            "Get:3 http://archive.ubuntu.com/ubuntu jammy-updates/universe amd64 python3.10-venv amd64 3.10.12-1~22.04.2 [5,724 B]\n",
            "Fetched 2,473 kB in 2s (1,501 kB/s)\n",
            "debconf: unable to initialize frontend: Dialog\n",
            "debconf: (No usable dialog-like program is installed, so the dialog based frontend cannot be used. at /usr/share/perl5/Debconf/FrontEnd/Dialog.pm line 78, <> line 3.)\n",
            "debconf: falling back to frontend: Readline\n",
            "debconf: unable to initialize frontend: Readline\n",
            "debconf: (This frontend requires a controlling tty.)\n",
            "debconf: falling back to frontend: Teletype\n",
            "dpkg-preconfigure: unable to re-open stdin: \n",
            "Selecting previously unselected package python3-pip-whl.\n",
            "(Reading database ... 121771 files and directories currently installed.)\n",
            "Preparing to unpack .../python3-pip-whl_22.0.2+dfsg-1ubuntu0.4_all.deb ...\n",
            "Unpacking python3-pip-whl (22.0.2+dfsg-1ubuntu0.4) ...\n",
            "Selecting previously unselected package python3-setuptools-whl.\n",
            "Preparing to unpack .../python3-setuptools-whl_59.6.0-1.2ubuntu0.22.04.1_all.deb ...\n",
            "Unpacking python3-setuptools-whl (59.6.0-1.2ubuntu0.22.04.1) ...\n",
            "Selecting previously unselected package python3.10-venv.\n",
            "Preparing to unpack .../python3.10-venv_3.10.12-1~22.04.2_amd64.deb ...\n",
            "Unpacking python3.10-venv (3.10.12-1~22.04.2) ...\n",
            "Setting up python3-setuptools-whl (59.6.0-1.2ubuntu0.22.04.1) ...\n",
            "Setting up python3-pip-whl (22.0.2+dfsg-1ubuntu0.4) ...\n",
            "Setting up python3.10-venv (3.10.12-1~22.04.2) ...\n"
          ]
        }
      ]
    },
    {
      "cell_type": "code",
      "source": [
        "!/usr/bin/python2.7 -m pip install virtualenv"
      ],
      "metadata": {
        "colab": {
          "base_uri": "https://localhost:8080/"
        },
        "id": "F1mwPWs7Dzug",
        "outputId": "04c92e6e-a250-479f-cb64-eb7e523f670b"
      },
      "execution_count": 7,
      "outputs": [
        {
          "output_type": "stream",
          "name": "stdout",
          "text": [
            "/usr/bin/python2.7: No module named pip\n"
          ]
        }
      ]
    },
    {
      "cell_type": "code",
      "source": [
        "#to install pip in python 2.7\n",
        "!curl https://bootstrap.pypa.io/pip/2.7/get-pip.py --output get-pip.py"
      ],
      "metadata": {
        "colab": {
          "base_uri": "https://localhost:8080/"
        },
        "id": "tOFRAIUAD6ir",
        "outputId": "cef9342c-2f6b-4f0d-9a59-5f91117fd61e"
      },
      "execution_count": 6,
      "outputs": [
        {
          "output_type": "stream",
          "name": "stdout",
          "text": [
            "  % Total    % Received % Xferd  Average Speed   Time    Time     Time  Current\n",
            "                                 Dload  Upload   Total   Spent    Left  Speed\n",
            "100 1863k  100 1863k    0     0  5305k      0 --:--:-- --:--:-- --:--:-- 5294k\n"
          ]
        }
      ]
    },
    {
      "cell_type": "code",
      "source": [
        "!sudo apt-get update\n",
        "!sudo apt-get install python2.7\n",
        "!sudo apt install python2-pip python-dev"
      ],
      "metadata": {
        "colab": {
          "base_uri": "https://localhost:8080/"
        },
        "id": "dznuM1K560IU",
        "outputId": "c9aed4c6-cc64-4206-a3d1-52559c86dccc"
      },
      "execution_count": 1,
      "outputs": [
        {
          "output_type": "stream",
          "name": "stdout",
          "text": [
            "\r0% [Working]\r            \rHit:1 https://cloud.r-project.org/bin/linux/ubuntu jammy-cran40/ InRelease\n",
            "\r0% [Connecting to archive.ubuntu.com] [Connecting to security.ubuntu.com] [Conn\r                                                                               \rHit:2 https://developer.download.nvidia.com/compute/cuda/repos/ubuntu2204/x86_64  InRelease\n",
            "Hit:3 http://security.ubuntu.com/ubuntu jammy-security InRelease\n",
            "Hit:4 http://archive.ubuntu.com/ubuntu jammy InRelease\n",
            "Hit:5 http://archive.ubuntu.com/ubuntu jammy-updates InRelease\n",
            "Hit:6 http://archive.ubuntu.com/ubuntu jammy-backports InRelease\n",
            "Hit:7 https://ppa.launchpadcontent.net/c2d4u.team/c2d4u4.0+/ubuntu jammy InRelease\n",
            "Hit:8 https://ppa.launchpadcontent.net/deadsnakes/ppa/ubuntu jammy InRelease\n",
            "Hit:9 https://ppa.launchpadcontent.net/graphics-drivers/ppa/ubuntu jammy InRelease\n",
            "Hit:10 https://ppa.launchpadcontent.net/ubuntugis/ppa/ubuntu jammy InRelease\n",
            "Reading package lists... Done\n",
            "Reading package lists... Done\n",
            "Building dependency tree... Done\n",
            "Reading state information... Done\n",
            "python2.7 is already the newest version (2.7.18-13ubuntu1.1).\n",
            "0 upgraded, 0 newly installed, 0 to remove and 12 not upgraded.\n"
          ]
        }
      ]
    },
    {
      "cell_type": "code",
      "source": [
        "os.getcwd()"
      ],
      "metadata": {
        "colab": {
          "base_uri": "https://localhost:8080/",
          "height": 35
        },
        "id": "tlawWqm47BFo",
        "outputId": "9dd2c18e-d163-4fcb-964f-7f2a9b1e10ce"
      },
      "execution_count": 24,
      "outputs": [
        {
          "output_type": "execute_result",
          "data": {
            "text/plain": [
              "'/content'"
            ],
            "application/vnd.google.colaboratory.intrinsic+json": {
              "type": "string"
            }
          },
          "metadata": {},
          "execution_count": 24
        }
      ]
    },
    {
      "cell_type": "code",
      "source": [
        "!virtualenv venv --python=python2.7"
      ],
      "metadata": {
        "colab": {
          "base_uri": "https://localhost:8080/"
        },
        "id": "CayrS3me_olR",
        "outputId": "0002205a-724f-40e1-c714-53f8071dbe2d"
      },
      "execution_count": 4,
      "outputs": [
        {
          "output_type": "stream",
          "name": "stdout",
          "text": [
            "/bin/bash: line 1: virtualenv: command not found\n"
          ]
        }
      ]
    },
    {
      "cell_type": "code",
      "source": [
        "!pip install virtualenv"
      ],
      "metadata": {
        "colab": {
          "base_uri": "https://localhost:8080/"
        },
        "id": "moHpHdzkA9eh",
        "outputId": "46d1330f-baf1-4708-cd4a-adf5706e488f"
      },
      "execution_count": 5,
      "outputs": [
        {
          "output_type": "stream",
          "name": "stdout",
          "text": [
            "Collecting virtualenv\n",
            "  Downloading virtualenv-20.24.6-py3-none-any.whl (3.8 MB)\n",
            "\u001b[2K     \u001b[90m━━━━━━━━━━━━━━━━━━━━━━━━━━━━━━━━━━━━━━━━\u001b[0m \u001b[32m3.8/3.8 MB\u001b[0m \u001b[31m18.7 MB/s\u001b[0m eta \u001b[36m0:00:00\u001b[0m\n",
            "\u001b[?25hCollecting distlib<1,>=0.3.7 (from virtualenv)\n",
            "  Downloading distlib-0.3.7-py2.py3-none-any.whl (468 kB)\n",
            "\u001b[2K     \u001b[90m━━━━━━━━━━━━━━━━━━━━━━━━━━━━━━━━━━━━━━━━\u001b[0m \u001b[32m468.9/468.9 kB\u001b[0m \u001b[31m23.9 MB/s\u001b[0m eta \u001b[36m0:00:00\u001b[0m\n",
            "\u001b[?25hRequirement already satisfied: filelock<4,>=3.12.2 in /usr/local/lib/python3.10/dist-packages (from virtualenv) (3.13.1)\n",
            "Requirement already satisfied: platformdirs<4,>=3.9.1 in /usr/local/lib/python3.10/dist-packages (from virtualenv) (3.11.0)\n",
            "Installing collected packages: distlib, virtualenv\n",
            "Successfully installed distlib-0.3.7 virtualenv-20.24.6\n"
          ]
        }
      ]
    },
    {
      "cell_type": "code",
      "source": [
        "!sudo /usr/bin/easy_install virtualenv"
      ],
      "metadata": {
        "colab": {
          "base_uri": "https://localhost:8080/"
        },
        "id": "i2RYA4yBBKpy",
        "outputId": "14e3d25c-b917-4761-e709-3727a60a1dcd"
      },
      "execution_count": 2,
      "outputs": [
        {
          "output_type": "stream",
          "name": "stdout",
          "text": [
            "sudo: /usr/bin/easy_install: command not found\r\n"
          ]
        }
      ]
    },
    {
      "cell_type": "code",
      "source": [
        "# !sudo apt-get update\n",
        "!sudo apt-get install python-setuptools"
      ],
      "metadata": {
        "colab": {
          "base_uri": "https://localhost:8080/"
        },
        "id": "tkYJzN-WBsGq",
        "outputId": "dbb7d9a0-19bb-4cfd-b303-6b6c3bb22463"
      },
      "execution_count": 7,
      "outputs": [
        {
          "output_type": "stream",
          "name": "stdout",
          "text": [
            "\r0% [Working]\r            \rHit:1 https://cloud.r-project.org/bin/linux/ubuntu jammy-cran40/ InRelease\n",
            "\r0% [Waiting for headers] [Waiting for headers] [Connecting to ppa.launchpadcont\r                                                                               \rHit:2 https://developer.download.nvidia.com/compute/cuda/repos/ubuntu2204/x86_64  InRelease\n",
            "Hit:3 http://archive.ubuntu.com/ubuntu jammy InRelease\n",
            "Hit:4 http://archive.ubuntu.com/ubuntu jammy-updates InRelease\n",
            "Hit:5 http://archive.ubuntu.com/ubuntu jammy-backports InRelease\n",
            "Hit:6 https://ppa.launchpadcontent.net/c2d4u.team/c2d4u4.0+/ubuntu jammy InRelease\n",
            "Hit:7 https://ppa.launchpadcontent.net/deadsnakes/ppa/ubuntu jammy InRelease\n",
            "Hit:8 https://ppa.launchpadcontent.net/graphics-drivers/ppa/ubuntu jammy InRelease\n",
            "Hit:9 https://ppa.launchpadcontent.net/ubuntugis/ppa/ubuntu jammy InRelease\n",
            "Hit:10 http://security.ubuntu.com/ubuntu jammy-security InRelease\n",
            "Reading package lists... Done\n",
            "Reading package lists... Done\n",
            "Building dependency tree... Done\n",
            "Reading state information... Done\n",
            "The following additional packages will be installed:\n",
            "  libpython2-stdlib python-pkg-resources python2 python2-minimal\n",
            "Suggested packages:\n",
            "  python-setuptools-doc python2-doc python-tk\n",
            "The following NEW packages will be installed:\n",
            "  libpython2-stdlib python-pkg-resources python-setuptools python2\n",
            "  python2-minimal\n",
            "0 upgraded, 5 newly installed, 0 to remove and 12 not upgraded.\n",
            "Need to get 500 kB of archives.\n",
            "After this operation, 2,241 kB of additional disk space will be used.\n",
            "Get:1 http://archive.ubuntu.com/ubuntu jammy/universe amd64 python2-minimal amd64 2.7.18-3 [20.8 kB]\n",
            "Get:2 http://archive.ubuntu.com/ubuntu jammy/universe amd64 libpython2-stdlib amd64 2.7.18-3 [7,432 B]\n",
            "Get:3 http://archive.ubuntu.com/ubuntu jammy/universe amd64 python2 amd64 2.7.18-3 [9,098 B]\n",
            "Get:4 http://archive.ubuntu.com/ubuntu jammy-updates/universe amd64 python-pkg-resources all 44.1.1-1.2ubuntu0.22.04.1 [128 kB]\n",
            "Get:5 http://archive.ubuntu.com/ubuntu jammy-updates/universe amd64 python-setuptools all 44.1.1-1.2ubuntu0.22.04.1 [334 kB]\n",
            "Fetched 500 kB in 3s (149 kB/s)\n",
            "debconf: unable to initialize frontend: Dialog\n",
            "debconf: (No usable dialog-like program is installed, so the dialog based frontend cannot be used. at /usr/share/perl5/Debconf/FrontEnd/Dialog.pm line 78, <> line 5.)\n",
            "debconf: falling back to frontend: Readline\n",
            "debconf: unable to initialize frontend: Readline\n",
            "debconf: (This frontend requires a controlling tty.)\n",
            "debconf: falling back to frontend: Teletype\n",
            "dpkg-preconfigure: unable to re-open stdin: \n",
            "Selecting previously unselected package python2-minimal.\n",
            "(Reading database ... 121599 files and directories currently installed.)\n",
            "Preparing to unpack .../python2-minimal_2.7.18-3_amd64.deb ...\n",
            "Unpacking python2-minimal (2.7.18-3) ...\n",
            "Selecting previously unselected package libpython2-stdlib:amd64.\n",
            "Preparing to unpack .../libpython2-stdlib_2.7.18-3_amd64.deb ...\n",
            "Unpacking libpython2-stdlib:amd64 (2.7.18-3) ...\n",
            "Setting up python2-minimal (2.7.18-3) ...\n",
            "Selecting previously unselected package python2.\n",
            "(Reading database ... 121625 files and directories currently installed.)\n",
            "Preparing to unpack .../python2_2.7.18-3_amd64.deb ...\n",
            "Unpacking python2 (2.7.18-3) ...\n",
            "Selecting previously unselected package python-pkg-resources.\n",
            "Preparing to unpack .../python-pkg-resources_44.1.1-1.2ubuntu0.22.04.1_all.deb ...\n",
            "Unpacking python-pkg-resources (44.1.1-1.2ubuntu0.22.04.1) ...\n",
            "Selecting previously unselected package python-setuptools.\n",
            "Preparing to unpack .../python-setuptools_44.1.1-1.2ubuntu0.22.04.1_all.deb ...\n",
            "Unpacking python-setuptools (44.1.1-1.2ubuntu0.22.04.1) ...\n",
            "Setting up libpython2-stdlib:amd64 (2.7.18-3) ...\n",
            "Setting up python2 (2.7.18-3) ...\n",
            "Setting up python-pkg-resources (44.1.1-1.2ubuntu0.22.04.1) ...\n",
            "Setting up python-setuptools (44.1.1-1.2ubuntu0.22.04.1) ...\n",
            "Processing triggers for man-db (2.10.2-1) ...\n"
          ]
        }
      ]
    },
    {
      "cell_type": "code",
      "source": [
        "!sudo ln -s /usr/bin/easy_install-2.7 /usr/bin/easy_install"
      ],
      "metadata": {
        "id": "8OZ58mltBv2z"
      },
      "execution_count": 8,
      "outputs": []
    },
    {
      "cell_type": "code",
      "source": [
        "!virtualenv venv --python=/usr/bin/python2.7"
      ],
      "metadata": {
        "colab": {
          "base_uri": "https://localhost:8080/"
        },
        "id": "9zuLSwypB_qa",
        "outputId": "c0bbd70c-cdf8-4254-96b5-c1aff28d3c40"
      },
      "execution_count": 4,
      "outputs": [
        {
          "output_type": "stream",
          "name": "stdout",
          "text": [
            "RuntimeError: failed to query /usr/bin/python2.7 with code 1 err: '  File \"/usr/local/lib/python3.10/dist-packages/virtualenv/discovery/py_info.py\", line 24\\n    return list(OrderedDict.fromkeys([\"\", *os.environ.get(\"PATHEXT\", \"\").lower().split(os.pathsep)]))\\n                                          ^\\nSyntaxError: invalid syntax\\n'\n"
          ]
        }
      ]
    },
    {
      "cell_type": "code",
      "source": [
        "!python3 -m venv something"
      ],
      "metadata": {
        "colab": {
          "base_uri": "https://localhost:8080/"
        },
        "id": "TjjnA1PGCuDg",
        "outputId": "213e0ecd-1804-4a8c-e16b-a474ae1f0e51"
      },
      "execution_count": 1,
      "outputs": [
        {
          "output_type": "stream",
          "name": "stdout",
          "text": [
            "The virtual environment was not created successfully because ensurepip is not\n",
            "available.  On Debian/Ubuntu systems, you need to install the python3-venv\n",
            "package using the following command.\n",
            "\n",
            "    apt install python3.10-venv\n",
            "\n",
            "You may need to use sudo with that command.  After installing the python3-venv\n",
            "package, recreate your virtual environment.\n",
            "\n",
            "Failing command: /content/something/bin/python3\n",
            "\n"
          ]
        }
      ]
    },
    {
      "cell_type": "code",
      "source": [],
      "metadata": {
        "id": "w9fSN3o1DhhZ"
      },
      "execution_count": null,
      "outputs": []
    },
    {
      "cell_type": "code",
      "source": [],
      "metadata": {
        "id": "Wjl_wPKRFprm"
      },
      "execution_count": null,
      "outputs": []
    },
    {
      "cell_type": "code",
      "source": [
        "# Install virtualenv\n",
        "!pip install virtualenv\n",
        "\n",
        "# Create a virtual environment with Python 2.7\n",
        "!python2.7 -m virtualenv venv\n",
        "\n",
        "# Activate the virtual environment\n",
        "!source venv/bin/activate  # On Windows, use `myenv\\Scripts\\activate`\n",
        "\n",
        "# Install the required package and its dependencies\n",
        "!pip install commons  # This assumes 'commons' is the correct package name\n",
        "\n",
        "# Now you can use the desired function\n",
        "!python\n"
      ],
      "metadata": {
        "colab": {
          "base_uri": "https://localhost:8080/"
        },
        "id": "HqdZIqUUFpoL",
        "outputId": "445c423f-b408-4e00-89d8-651580566e70"
      },
      "execution_count": 2,
      "outputs": [
        {
          "output_type": "stream",
          "name": "stdout",
          "text": [
            "Requirement already satisfied: virtualenv in /usr/local/lib/python3.10/dist-packages (20.24.6)\n",
            "Requirement already satisfied: distlib<1,>=0.3.7 in /usr/local/lib/python3.10/dist-packages (from virtualenv) (0.3.7)\n",
            "Requirement already satisfied: filelock<4,>=3.12.2 in /usr/local/lib/python3.10/dist-packages (from virtualenv) (3.13.1)\n",
            "Requirement already satisfied: platformdirs<4,>=3.9.1 in /usr/local/lib/python3.10/dist-packages (from virtualenv) (3.11.0)\n",
            "/usr/bin/python2.7: No module named virtualenv\n",
            "/bin/bash: line 1: venv/bin/activate: No such file or directory\n",
            "Collecting commons\n",
            "  Using cached commons-0.7.tar.gz (49 kB)\n",
            "  \u001b[1;31merror\u001b[0m: \u001b[1msubprocess-exited-with-error\u001b[0m\n",
            "  \n",
            "  \u001b[31m×\u001b[0m \u001b[32mpython setup.py egg_info\u001b[0m did not run successfully.\n",
            "  \u001b[31m│\u001b[0m exit code: \u001b[1;36m1\u001b[0m\n",
            "  \u001b[31m╰─>\u001b[0m See above for output.\n",
            "  \n",
            "  \u001b[1;35mnote\u001b[0m: This error originates from a subprocess, and is likely not a problem with pip.\n",
            "  Preparing metadata (setup.py) ... \u001b[?25l\u001b[?25herror\n",
            "\u001b[1;31merror\u001b[0m: \u001b[1mmetadata-generation-failed\u001b[0m\n",
            "\n",
            "\u001b[31m×\u001b[0m Encountered error while generating package metadata.\n",
            "\u001b[31m╰─>\u001b[0m See above for output.\n",
            "\n",
            "\u001b[1;35mnote\u001b[0m: This is an issue with the package mentioned above, not pip.\n",
            "\u001b[1;36mhint\u001b[0m: See above for details.\n",
            "Python 3.10.12 (main, Jun 11 2023, 05:26:28) [GCC 11.4.0] on linux\n",
            "Type \"help\", \"copyright\", \"credits\" or \"license\" for more information.\n",
            ">>> \n",
            "KeyboardInterrupt\n",
            ">>> \n",
            "KeyboardInterrupt\n",
            ">>> \n",
            "KeyboardInterrupt\n",
            ">>> ^C\n"
          ]
        }
      ]
    },
    {
      "cell_type": "code",
      "source": [],
      "metadata": {
        "id": "fp0XRrsYFpkd"
      },
      "execution_count": null,
      "outputs": []
    },
    {
      "cell_type": "code",
      "source": [],
      "metadata": {
        "id": "JheXU9QhHCy9"
      },
      "execution_count": null,
      "outputs": []
    },
    {
      "cell_type": "code",
      "source": [],
      "metadata": {
        "id": "abI1TnxOHCu-"
      },
      "execution_count": null,
      "outputs": []
    },
    {
      "cell_type": "code",
      "source": [],
      "metadata": {
        "id": "R0pSR5_cHCr7"
      },
      "execution_count": null,
      "outputs": []
    },
    {
      "cell_type": "markdown",
      "source": [
        "Using the Tecadmin.net"
      ],
      "metadata": {
        "id": "PhhqcB3hHD6Z"
      }
    },
    {
      "cell_type": "code",
      "source": [
        "#To install python2.7 and pip on the system\n",
        "\n",
        "!sudo apt-get update\n",
        "!sudo apt-get install python2.7\n",
        "!sudo apt-get install python-pip"
      ],
      "metadata": {
        "colab": {
          "base_uri": "https://localhost:8080/"
        },
        "id": "FnCJ3SSAHCot",
        "outputId": "d1f6e26e-437f-4786-deab-e02de44ac415"
      },
      "execution_count": 1,
      "outputs": [
        {
          "output_type": "stream",
          "name": "stdout",
          "text": [
            "Hit:1 https://developer.download.nvidia.com/compute/cuda/repos/ubuntu2204/x86_64  InRelease\n",
            "Hit:2 http://archive.ubuntu.com/ubuntu jammy InRelease\n",
            "Hit:3 http://archive.ubuntu.com/ubuntu jammy-updates InRelease\n",
            "Get:4 http://security.ubuntu.com/ubuntu jammy-security InRelease [110 kB]\n",
            "Hit:5 http://archive.ubuntu.com/ubuntu jammy-backports InRelease\n",
            "Hit:6 https://cloud.r-project.org/bin/linux/ubuntu jammy-cran40/ InRelease\n",
            "Hit:7 https://ppa.launchpadcontent.net/c2d4u.team/c2d4u4.0+/ubuntu jammy InRelease\n",
            "Hit:8 https://ppa.launchpadcontent.net/deadsnakes/ppa/ubuntu jammy InRelease\n",
            "Hit:9 https://ppa.launchpadcontent.net/graphics-drivers/ppa/ubuntu jammy InRelease\n",
            "Hit:10 https://ppa.launchpadcontent.net/ubuntugis/ppa/ubuntu jammy InRelease\n",
            "Fetched 110 kB in 1s (81.2 kB/s)\n",
            "Reading package lists... Done\n",
            "Reading package lists... Done\n",
            "Building dependency tree... Done\n",
            "Reading state information... Done\n",
            "python2.7 is already the newest version (2.7.18-13ubuntu1.1).\n",
            "0 upgraded, 0 newly installed, 0 to remove and 12 not upgraded.\n",
            "Reading package lists... Done\n",
            "Building dependency tree... Done\n",
            "Reading state information... Done\n",
            "python-pip is already the newest version (20.3.4+dfsg-4).\n",
            "0 upgraded, 0 newly installed, 0 to remove and 12 not upgraded.\n"
          ]
        }
      ]
    },
    {
      "cell_type": "code",
      "source": [
        "!pip2 install virtualenv"
      ],
      "metadata": {
        "colab": {
          "base_uri": "https://localhost:8080/"
        },
        "id": "eckXD3OKHI53",
        "outputId": "c82ff2ec-3ff0-4625-aed7-6c299dbc6b0b"
      },
      "execution_count": 2,
      "outputs": [
        {
          "output_type": "stream",
          "name": "stdout",
          "text": [
            "Requirement already satisfied: virtualenv in /usr/local/lib/python2.7/dist-packages (20.15.1)\n",
            "Requirement already satisfied: distlib<1,>=0.3.1 in /usr/local/lib/python2.7/dist-packages (from virtualenv) (0.3.7)\n",
            "Requirement already satisfied: platformdirs<3,>=2 in /usr/local/lib/python2.7/dist-packages (from virtualenv) (2.0.2)\n",
            "Requirement already satisfied: importlib-metadata>=0.12; python_version < \"3.8\" in /usr/local/lib/python2.7/dist-packages (from virtualenv) (2.1.3)\n",
            "Requirement already satisfied: six<2,>=1.9.0 in /usr/local/lib/python2.7/dist-packages (from virtualenv) (1.16.0)\n",
            "Requirement already satisfied: importlib-resources>=1.0; python_version < \"3.7\" in /usr/local/lib/python2.7/dist-packages (from virtualenv) (3.3.1)\n",
            "Requirement already satisfied: filelock<4,>=3.2 in /usr/local/lib/python2.7/dist-packages (from virtualenv) (3.2.1)\n",
            "Requirement already satisfied: pathlib2<3,>=2.3.3; python_version < \"3.4\" and sys_platform != \"win32\" in /usr/local/lib/python2.7/dist-packages (from virtualenv) (2.3.7.post1)\n",
            "Requirement already satisfied: contextlib2; python_version < \"3\" in /usr/local/lib/python2.7/dist-packages (from importlib-metadata>=0.12; python_version < \"3.8\"->virtualenv) (0.6.0.post1)\n",
            "Requirement already satisfied: configparser>=3.5; python_version < \"3\" in /usr/local/lib/python2.7/dist-packages (from importlib-metadata>=0.12; python_version < \"3.8\"->virtualenv) (4.0.2)\n",
            "Requirement already satisfied: zipp>=0.5 in /usr/local/lib/python2.7/dist-packages (from importlib-metadata>=0.12; python_version < \"3.8\"->virtualenv) (1.2.0)\n",
            "Requirement already satisfied: typing; python_version < \"3.5\" in /usr/local/lib/python2.7/dist-packages (from importlib-resources>=1.0; python_version < \"3.7\"->virtualenv) (3.10.0.0)\n",
            "Requirement already satisfied: singledispatch; python_version < \"3.4\" in /usr/local/lib/python2.7/dist-packages (from importlib-resources>=1.0; python_version < \"3.7\"->virtualenv) (3.7.0)\n",
            "Requirement already satisfied: scandir; python_version < \"3.5\" in /usr/local/lib/python2.7/dist-packages (from pathlib2<3,>=2.3.3; python_version < \"3.4\" and sys_platform != \"win32\"->virtualenv) (1.10.0)\n"
          ]
        }
      ]
    },
    {
      "cell_type": "code",
      "source": [
        "#to find the location of python 2\n",
        "!which python2"
      ],
      "metadata": {
        "colab": {
          "base_uri": "https://localhost:8080/"
        },
        "id": "jKfaCHkGH9TV",
        "outputId": "c3fb7f63-8af7-418b-a333-be3bd236d510"
      },
      "execution_count": 3,
      "outputs": [
        {
          "output_type": "stream",
          "name": "stdout",
          "text": [
            "/usr/bin/python2\n"
          ]
        }
      ]
    },
    {
      "cell_type": "code",
      "source": [
        "!virtualenv -p /usr/bin/python2 isoEnv"
      ],
      "metadata": {
        "colab": {
          "base_uri": "https://localhost:8080/"
        },
        "id": "KKheKkbmIMiK",
        "outputId": "704992a1-65c7-4a7d-e1fd-2e8b5c03daec"
      },
      "execution_count": 4,
      "outputs": [
        {
          "output_type": "stream",
          "name": "stdout",
          "text": [
            "created virtual environment CPython2.7.18.final.0-64 in 256ms\n",
            "  creator CPython2Posix(dest=/content/isoEnv, clear=False, no_vcs_ignore=False, global=False)\n",
            "  seeder FromAppData(download=False, pip=bundle, wheel=bundle, setuptools=bundle, via=copy, app_data_dir=/root/.local/share/virtualenv)\n",
            "    added seed packages: pip==20.3.4, setuptools==44.1.1, wheel==0.37.1\n",
            "  activators NushellActivator,PythonActivator,FishActivator,CShellActivator,PowerShellActivator,BashActivator\n"
          ]
        }
      ]
    },
    {
      "cell_type": "code",
      "source": [
        "#To activate the virtual environment isoEnv which has a python2 environment\n",
        "!source isoEnv/bin/activate"
      ],
      "metadata": {
        "id": "CqGoJaL7IXIq"
      },
      "execution_count": 5,
      "outputs": []
    },
    {
      "cell_type": "code",
      "source": [
        "#installing commons package\n",
        "!python2 -m pip install commons"
      ],
      "metadata": {
        "colab": {
          "base_uri": "https://localhost:8080/"
        },
        "id": "lfSUZMiJIb4t",
        "outputId": "aa1ed27e-6cac-4ae3-9d6d-e99884ed87bb"
      },
      "execution_count": 6,
      "outputs": [
        {
          "output_type": "stream",
          "name": "stdout",
          "text": [
            "Requirement already satisfied: commons in /usr/local/lib/python2.7/dist-packages (0.7)\n"
          ]
        }
      ]
    },
    {
      "cell_type": "code",
      "source": [
        "import commons\n",
        "\n",
        "input_file = '/content/mtg-jamendo-dataset/data/autotagging.tsv'\n",
        "tracks, tags, extra = commons.read_file(input_file)"
      ],
      "metadata": {
        "colab": {
          "base_uri": "https://localhost:8080/",
          "height": 367
        },
        "id": "CyKtf0tMIxyE",
        "outputId": "03de4a19-5344-4881-e90b-048f3f451bb0"
      },
      "execution_count": 13,
      "outputs": [
        {
          "output_type": "error",
          "ename": "ModuleNotFoundError",
          "evalue": "ignored",
          "traceback": [
            "\u001b[0;31m---------------------------------------------------------------------------\u001b[0m",
            "\u001b[0;31mModuleNotFoundError\u001b[0m                       Traceback (most recent call last)",
            "\u001b[0;32m<ipython-input-13-b0c76fbb8109>\u001b[0m in \u001b[0;36m<cell line: 1>\u001b[0;34m()\u001b[0m\n\u001b[0;32m----> 1\u001b[0;31m \u001b[0;32mimport\u001b[0m \u001b[0mcommons\u001b[0m\u001b[0;34m\u001b[0m\u001b[0;34m\u001b[0m\u001b[0m\n\u001b[0m\u001b[1;32m      2\u001b[0m \u001b[0;34m\u001b[0m\u001b[0m\n\u001b[1;32m      3\u001b[0m \u001b[0minput_file\u001b[0m \u001b[0;34m=\u001b[0m \u001b[0;34m'/content/mtg-jamendo-dataset/data/autotagging.tsv'\u001b[0m\u001b[0;34m\u001b[0m\u001b[0;34m\u001b[0m\u001b[0m\n\u001b[1;32m      4\u001b[0m \u001b[0mtracks\u001b[0m\u001b[0;34m,\u001b[0m \u001b[0mtags\u001b[0m\u001b[0;34m,\u001b[0m \u001b[0mextra\u001b[0m \u001b[0;34m=\u001b[0m \u001b[0mcommons\u001b[0m\u001b[0;34m.\u001b[0m\u001b[0mread_file\u001b[0m\u001b[0;34m(\u001b[0m\u001b[0minput_file\u001b[0m\u001b[0;34m)\u001b[0m\u001b[0;34m\u001b[0m\u001b[0;34m\u001b[0m\u001b[0m\n",
            "\u001b[0;31mModuleNotFoundError\u001b[0m: No module named 'commons'",
            "",
            "\u001b[0;31m---------------------------------------------------------------------------\u001b[0;32m\nNOTE: If your import is failing due to a missing package, you can\nmanually install dependencies using either !pip or !apt.\n\nTo view examples of installing some common dependencies, click the\n\"Open Examples\" button below.\n\u001b[0;31m---------------------------------------------------------------------------\u001b[0m\n"
          ],
          "errorDetails": {
            "actions": [
              {
                "action": "open_url",
                "actionText": "Open Examples",
                "url": "/notebooks/snippets/importing_libraries.ipynb"
              }
            ]
          }
        }
      ]
    },
    {
      "cell_type": "code",
      "source": [
        "import sys\n",
        "print(sys.version)"
      ],
      "metadata": {
        "colab": {
          "base_uri": "https://localhost:8080/"
        },
        "id": "LQjXrrSpJOqL",
        "outputId": "3b7409b1-666e-4851-a69b-cc5a26c95244"
      },
      "execution_count": 12,
      "outputs": [
        {
          "output_type": "stream",
          "name": "stdout",
          "text": [
            "3.10.12 (main, Jun 11 2023, 05:26:28) [GCC 11.4.0]\n"
          ]
        }
      ]
    },
    {
      "cell_type": "code",
      "source": [
        "!source isoEnv/bin/activate\n"
      ],
      "metadata": {
        "id": "fVRYtl4cJS_U"
      },
      "execution_count": 9,
      "outputs": []
    },
    {
      "cell_type": "code",
      "source": [
        "!source isoEnv/bin/activate && python2 -m pip install commons\n"
      ],
      "metadata": {
        "colab": {
          "base_uri": "https://localhost:8080/"
        },
        "id": "dmqwKl0cKud1",
        "outputId": "124fb9c5-6066-4fba-d489-e7062d3a23b6"
      },
      "execution_count": 10,
      "outputs": [
        {
          "output_type": "stream",
          "name": "stdout",
          "text": [
            "Collecting commons\n",
            "  Using cached commons-0.7.tar.gz (49 kB)\n",
            "Building wheels for collected packages: commons\n",
            "  Building wheel for commons (setup.py) ... \u001b[?25l\u001b[?25hdone\n",
            "  Created wheel for commons: filename=commons-0.7-py2-none-any.whl size=55168 sha256=ee8993240d645061759590b935d2577c4d6dc3edfae8ddc37bc182d56a5c3954\n",
            "  Stored in directory: /root/.cache/pip/wheels/1f/b3/f4/8c01c62709497b5f7a1caa16617614910732598fc4bf61d38b\n",
            "Successfully built commons\n",
            "Installing collected packages: commons\n",
            "Successfully installed commons-0.7\n"
          ]
        }
      ]
    },
    {
      "cell_type": "code",
      "source": [
        "import os\n",
        "print(os.environ['PATH'])"
      ],
      "metadata": {
        "colab": {
          "base_uri": "https://localhost:8080/"
        },
        "id": "0bCoiEAUKxne",
        "outputId": "ddddfcaf-e96a-4cfd-9d23-06778a0f5eb8"
      },
      "execution_count": 11,
      "outputs": [
        {
          "output_type": "stream",
          "name": "stdout",
          "text": [
            "/opt/bin:/usr/local/nvidia/bin:/usr/local/cuda/bin:/usr/local/sbin:/usr/local/bin:/usr/sbin:/usr/bin:/sbin:/bin:/tools/node/bin:/tools/google-cloud-sdk/bin\n"
          ]
        }
      ]
    },
    {
      "cell_type": "code",
      "source": [
        "# This assumes isoEnv is in the current working directory\n",
        "!source isoEnv/bin/activate"
      ],
      "metadata": {
        "id": "jqafMeHDK0Vl"
      },
      "execution_count": 14,
      "outputs": []
    },
    {
      "cell_type": "code",
      "source": [
        "import sys\n",
        "print(sys.version)"
      ],
      "metadata": {
        "colab": {
          "base_uri": "https://localhost:8080/"
        },
        "id": "UIv2B2iwLx1G",
        "outputId": "1c2a2325-5e43-4057-ea61-979d08f357a0"
      },
      "execution_count": 15,
      "outputs": [
        {
          "output_type": "stream",
          "name": "stdout",
          "text": [
            "3.10.12 (main, Jun 11 2023, 05:26:28) [GCC 11.4.0]\n"
          ]
        }
      ]
    },
    {
      "cell_type": "code",
      "source": [],
      "metadata": {
        "id": "qIkIoBZML0Fm"
      },
      "execution_count": null,
      "outputs": []
    },
    {
      "cell_type": "markdown",
      "source": [
        "#Abandoning commons and reading line by line\n"
      ],
      "metadata": {
        "id": "0Fy_3IMthbhC"
      }
    },
    {
      "cell_type": "code",
      "source": [
        "import pandas as pd\n",
        "\n",
        "# Specify the file path\n",
        "file_path = '/content/mtg-jamendo-dataset/data/autotagging_genre.tsv'\n",
        "\n",
        "# Initialize an empty list to store the data\n",
        "data_list = []\n",
        "\n",
        "# Open the file and read it line by line\n",
        "with open(file_path, 'r') as file:\n",
        "    for line in file:\n",
        "        # Split the line based on tabs\n",
        "        parts = line.strip().split('\\t')\n",
        "\n",
        "        # Combine the values in the last part if there are more than 6 parts\n",
        "        if len(parts) > 6:\n",
        "            parts[5] = ' '.join(parts[5:])\n",
        "            del parts[6:]\n",
        "\n",
        "        # Append the line to the data list\n",
        "        data_list.append(parts)\n",
        "\n",
        "# Create a DataFrame from the list\n",
        "data_df = pd.DataFrame(data_list)\n",
        "\n",
        "data_df.columns = data_df.iloc[0]\n",
        "data_df = data_df[1:]\n",
        "\n",
        "# Display the DataFrame\n",
        "print(data_df)\n"
      ],
      "metadata": {
        "colab": {
          "base_uri": "https://localhost:8080/"
        },
        "id": "uj6XSRnJje-d",
        "outputId": "7deb2398-0d0e-4603-fbc0-601a2940c278"
      },
      "execution_count": 9,
      "outputs": [
        {
          "output_type": "stream",
          "name": "stdout",
          "text": [
            "0           TRACK_ID      ARTIST_ID      ALBUM_ID            PATH DURATION  \\\n",
            "1      track_0000214  artist_000014  album_000031      14/214.mp3    124.6   \n",
            "2      track_0000215  artist_000014  album_000031      15/215.mp3    151.4   \n",
            "3      track_0000216  artist_000014  album_000031      16/216.mp3    234.9   \n",
            "4      track_0000217  artist_000014  album_000031      17/217.mp3    127.9   \n",
            "5      track_0000218  artist_000014  album_000031      18/218.mp3    180.7   \n",
            "...              ...            ...           ...             ...      ...   \n",
            "55211  track_1422056  artist_496314  album_165847  56/1422056.mp3    516.0   \n",
            "55212  track_1422057  artist_496314  album_165847  57/1422057.mp3    374.9   \n",
            "55213  track_1422058  artist_496314  album_165847  58/1422058.mp3    315.8   \n",
            "55214  track_1422059  artist_496314  album_165847  59/1422059.mp3    201.3   \n",
            "55215  track_1422060  artist_496314  album_165847  60/1422060.mp3    336.0   \n",
            "\n",
            "0                    TAGS  \n",
            "1        genre---punkrock  \n",
            "2           genre---metal  \n",
            "3           genre---metal  \n",
            "4        genre---punkrock  \n",
            "5        genre---punkrock  \n",
            "...                   ...  \n",
            "55211  genre---soundtrack  \n",
            "55212  genre---soundtrack  \n",
            "55213  genre---soundtrack  \n",
            "55214  genre---soundtrack  \n",
            "55215  genre---soundtrack  \n",
            "\n",
            "[55215 rows x 6 columns]\n"
          ]
        }
      ]
    },
    {
      "cell_type": "code",
      "source": [
        "data_df.head()"
      ],
      "metadata": {
        "colab": {
          "base_uri": "https://localhost:8080/",
          "height": 206
        },
        "id": "kc2tPzslknN4",
        "outputId": "c6b14989-80de-4d61-f1dd-87546e15ce8b"
      },
      "execution_count": 10,
      "outputs": [
        {
          "output_type": "execute_result",
          "data": {
            "text/plain": [
              "0       TRACK_ID      ARTIST_ID      ALBUM_ID        PATH DURATION  \\\n",
              "1  track_0000214  artist_000014  album_000031  14/214.mp3    124.6   \n",
              "2  track_0000215  artist_000014  album_000031  15/215.mp3    151.4   \n",
              "3  track_0000216  artist_000014  album_000031  16/216.mp3    234.9   \n",
              "4  track_0000217  artist_000014  album_000031  17/217.mp3    127.9   \n",
              "5  track_0000218  artist_000014  album_000031  18/218.mp3    180.7   \n",
              "\n",
              "0              TAGS  \n",
              "1  genre---punkrock  \n",
              "2     genre---metal  \n",
              "3     genre---metal  \n",
              "4  genre---punkrock  \n",
              "5  genre---punkrock  "
            ],
            "text/html": [
              "\n",
              "  <div id=\"df-09a6f73a-0e25-42e0-9e9e-9f40cf7507f5\" class=\"colab-df-container\">\n",
              "    <div>\n",
              "<style scoped>\n",
              "    .dataframe tbody tr th:only-of-type {\n",
              "        vertical-align: middle;\n",
              "    }\n",
              "\n",
              "    .dataframe tbody tr th {\n",
              "        vertical-align: top;\n",
              "    }\n",
              "\n",
              "    .dataframe thead th {\n",
              "        text-align: right;\n",
              "    }\n",
              "</style>\n",
              "<table border=\"1\" class=\"dataframe\">\n",
              "  <thead>\n",
              "    <tr style=\"text-align: right;\">\n",
              "      <th></th>\n",
              "      <th>TRACK_ID</th>\n",
              "      <th>ARTIST_ID</th>\n",
              "      <th>ALBUM_ID</th>\n",
              "      <th>PATH</th>\n",
              "      <th>DURATION</th>\n",
              "      <th>TAGS</th>\n",
              "    </tr>\n",
              "  </thead>\n",
              "  <tbody>\n",
              "    <tr>\n",
              "      <th>1</th>\n",
              "      <td>track_0000214</td>\n",
              "      <td>artist_000014</td>\n",
              "      <td>album_000031</td>\n",
              "      <td>14/214.mp3</td>\n",
              "      <td>124.6</td>\n",
              "      <td>genre---punkrock</td>\n",
              "    </tr>\n",
              "    <tr>\n",
              "      <th>2</th>\n",
              "      <td>track_0000215</td>\n",
              "      <td>artist_000014</td>\n",
              "      <td>album_000031</td>\n",
              "      <td>15/215.mp3</td>\n",
              "      <td>151.4</td>\n",
              "      <td>genre---metal</td>\n",
              "    </tr>\n",
              "    <tr>\n",
              "      <th>3</th>\n",
              "      <td>track_0000216</td>\n",
              "      <td>artist_000014</td>\n",
              "      <td>album_000031</td>\n",
              "      <td>16/216.mp3</td>\n",
              "      <td>234.9</td>\n",
              "      <td>genre---metal</td>\n",
              "    </tr>\n",
              "    <tr>\n",
              "      <th>4</th>\n",
              "      <td>track_0000217</td>\n",
              "      <td>artist_000014</td>\n",
              "      <td>album_000031</td>\n",
              "      <td>17/217.mp3</td>\n",
              "      <td>127.9</td>\n",
              "      <td>genre---punkrock</td>\n",
              "    </tr>\n",
              "    <tr>\n",
              "      <th>5</th>\n",
              "      <td>track_0000218</td>\n",
              "      <td>artist_000014</td>\n",
              "      <td>album_000031</td>\n",
              "      <td>18/218.mp3</td>\n",
              "      <td>180.7</td>\n",
              "      <td>genre---punkrock</td>\n",
              "    </tr>\n",
              "  </tbody>\n",
              "</table>\n",
              "</div>\n",
              "    <div class=\"colab-df-buttons\">\n",
              "\n",
              "  <div class=\"colab-df-container\">\n",
              "    <button class=\"colab-df-convert\" onclick=\"convertToInteractive('df-09a6f73a-0e25-42e0-9e9e-9f40cf7507f5')\"\n",
              "            title=\"Convert this dataframe to an interactive table.\"\n",
              "            style=\"display:none;\">\n",
              "\n",
              "  <svg xmlns=\"http://www.w3.org/2000/svg\" height=\"24px\" viewBox=\"0 -960 960 960\">\n",
              "    <path d=\"M120-120v-720h720v720H120Zm60-500h600v-160H180v160Zm220 220h160v-160H400v160Zm0 220h160v-160H400v160ZM180-400h160v-160H180v160Zm440 0h160v-160H620v160ZM180-180h160v-160H180v160Zm440 0h160v-160H620v160Z\"/>\n",
              "  </svg>\n",
              "    </button>\n",
              "\n",
              "  <style>\n",
              "    .colab-df-container {\n",
              "      display:flex;\n",
              "      gap: 12px;\n",
              "    }\n",
              "\n",
              "    .colab-df-convert {\n",
              "      background-color: #E8F0FE;\n",
              "      border: none;\n",
              "      border-radius: 50%;\n",
              "      cursor: pointer;\n",
              "      display: none;\n",
              "      fill: #1967D2;\n",
              "      height: 32px;\n",
              "      padding: 0 0 0 0;\n",
              "      width: 32px;\n",
              "    }\n",
              "\n",
              "    .colab-df-convert:hover {\n",
              "      background-color: #E2EBFA;\n",
              "      box-shadow: 0px 1px 2px rgba(60, 64, 67, 0.3), 0px 1px 3px 1px rgba(60, 64, 67, 0.15);\n",
              "      fill: #174EA6;\n",
              "    }\n",
              "\n",
              "    .colab-df-buttons div {\n",
              "      margin-bottom: 4px;\n",
              "    }\n",
              "\n",
              "    [theme=dark] .colab-df-convert {\n",
              "      background-color: #3B4455;\n",
              "      fill: #D2E3FC;\n",
              "    }\n",
              "\n",
              "    [theme=dark] .colab-df-convert:hover {\n",
              "      background-color: #434B5C;\n",
              "      box-shadow: 0px 1px 3px 1px rgba(0, 0, 0, 0.15);\n",
              "      filter: drop-shadow(0px 1px 2px rgba(0, 0, 0, 0.3));\n",
              "      fill: #FFFFFF;\n",
              "    }\n",
              "  </style>\n",
              "\n",
              "    <script>\n",
              "      const buttonEl =\n",
              "        document.querySelector('#df-09a6f73a-0e25-42e0-9e9e-9f40cf7507f5 button.colab-df-convert');\n",
              "      buttonEl.style.display =\n",
              "        google.colab.kernel.accessAllowed ? 'block' : 'none';\n",
              "\n",
              "      async function convertToInteractive(key) {\n",
              "        const element = document.querySelector('#df-09a6f73a-0e25-42e0-9e9e-9f40cf7507f5');\n",
              "        const dataTable =\n",
              "          await google.colab.kernel.invokeFunction('convertToInteractive',\n",
              "                                                    [key], {});\n",
              "        if (!dataTable) return;\n",
              "\n",
              "        const docLinkHtml = 'Like what you see? Visit the ' +\n",
              "          '<a target=\"_blank\" href=https://colab.research.google.com/notebooks/data_table.ipynb>data table notebook</a>'\n",
              "          + ' to learn more about interactive tables.';\n",
              "        element.innerHTML = '';\n",
              "        dataTable['output_type'] = 'display_data';\n",
              "        await google.colab.output.renderOutput(dataTable, element);\n",
              "        const docLink = document.createElement('div');\n",
              "        docLink.innerHTML = docLinkHtml;\n",
              "        element.appendChild(docLink);\n",
              "      }\n",
              "    </script>\n",
              "  </div>\n",
              "\n",
              "\n",
              "<div id=\"df-3aa0e7c8-6438-46a8-8969-4a8902009bee\">\n",
              "  <button class=\"colab-df-quickchart\" onclick=\"quickchart('df-3aa0e7c8-6438-46a8-8969-4a8902009bee')\"\n",
              "            title=\"Suggest charts\"\n",
              "            style=\"display:none;\">\n",
              "\n",
              "<svg xmlns=\"http://www.w3.org/2000/svg\" height=\"24px\"viewBox=\"0 0 24 24\"\n",
              "     width=\"24px\">\n",
              "    <g>\n",
              "        <path d=\"M19 3H5c-1.1 0-2 .9-2 2v14c0 1.1.9 2 2 2h14c1.1 0 2-.9 2-2V5c0-1.1-.9-2-2-2zM9 17H7v-7h2v7zm4 0h-2V7h2v10zm4 0h-2v-4h2v4z\"/>\n",
              "    </g>\n",
              "</svg>\n",
              "  </button>\n",
              "\n",
              "<style>\n",
              "  .colab-df-quickchart {\n",
              "      --bg-color: #E8F0FE;\n",
              "      --fill-color: #1967D2;\n",
              "      --hover-bg-color: #E2EBFA;\n",
              "      --hover-fill-color: #174EA6;\n",
              "      --disabled-fill-color: #AAA;\n",
              "      --disabled-bg-color: #DDD;\n",
              "  }\n",
              "\n",
              "  [theme=dark] .colab-df-quickchart {\n",
              "      --bg-color: #3B4455;\n",
              "      --fill-color: #D2E3FC;\n",
              "      --hover-bg-color: #434B5C;\n",
              "      --hover-fill-color: #FFFFFF;\n",
              "      --disabled-bg-color: #3B4455;\n",
              "      --disabled-fill-color: #666;\n",
              "  }\n",
              "\n",
              "  .colab-df-quickchart {\n",
              "    background-color: var(--bg-color);\n",
              "    border: none;\n",
              "    border-radius: 50%;\n",
              "    cursor: pointer;\n",
              "    display: none;\n",
              "    fill: var(--fill-color);\n",
              "    height: 32px;\n",
              "    padding: 0;\n",
              "    width: 32px;\n",
              "  }\n",
              "\n",
              "  .colab-df-quickchart:hover {\n",
              "    background-color: var(--hover-bg-color);\n",
              "    box-shadow: 0 1px 2px rgba(60, 64, 67, 0.3), 0 1px 3px 1px rgba(60, 64, 67, 0.15);\n",
              "    fill: var(--button-hover-fill-color);\n",
              "  }\n",
              "\n",
              "  .colab-df-quickchart-complete:disabled,\n",
              "  .colab-df-quickchart-complete:disabled:hover {\n",
              "    background-color: var(--disabled-bg-color);\n",
              "    fill: var(--disabled-fill-color);\n",
              "    box-shadow: none;\n",
              "  }\n",
              "\n",
              "  .colab-df-spinner {\n",
              "    border: 2px solid var(--fill-color);\n",
              "    border-color: transparent;\n",
              "    border-bottom-color: var(--fill-color);\n",
              "    animation:\n",
              "      spin 1s steps(1) infinite;\n",
              "  }\n",
              "\n",
              "  @keyframes spin {\n",
              "    0% {\n",
              "      border-color: transparent;\n",
              "      border-bottom-color: var(--fill-color);\n",
              "      border-left-color: var(--fill-color);\n",
              "    }\n",
              "    20% {\n",
              "      border-color: transparent;\n",
              "      border-left-color: var(--fill-color);\n",
              "      border-top-color: var(--fill-color);\n",
              "    }\n",
              "    30% {\n",
              "      border-color: transparent;\n",
              "      border-left-color: var(--fill-color);\n",
              "      border-top-color: var(--fill-color);\n",
              "      border-right-color: var(--fill-color);\n",
              "    }\n",
              "    40% {\n",
              "      border-color: transparent;\n",
              "      border-right-color: var(--fill-color);\n",
              "      border-top-color: var(--fill-color);\n",
              "    }\n",
              "    60% {\n",
              "      border-color: transparent;\n",
              "      border-right-color: var(--fill-color);\n",
              "    }\n",
              "    80% {\n",
              "      border-color: transparent;\n",
              "      border-right-color: var(--fill-color);\n",
              "      border-bottom-color: var(--fill-color);\n",
              "    }\n",
              "    90% {\n",
              "      border-color: transparent;\n",
              "      border-bottom-color: var(--fill-color);\n",
              "    }\n",
              "  }\n",
              "</style>\n",
              "\n",
              "  <script>\n",
              "    async function quickchart(key) {\n",
              "      const quickchartButtonEl =\n",
              "        document.querySelector('#' + key + ' button');\n",
              "      quickchartButtonEl.disabled = true;  // To prevent multiple clicks.\n",
              "      quickchartButtonEl.classList.add('colab-df-spinner');\n",
              "      try {\n",
              "        const charts = await google.colab.kernel.invokeFunction(\n",
              "            'suggestCharts', [key], {});\n",
              "      } catch (error) {\n",
              "        console.error('Error during call to suggestCharts:', error);\n",
              "      }\n",
              "      quickchartButtonEl.classList.remove('colab-df-spinner');\n",
              "      quickchartButtonEl.classList.add('colab-df-quickchart-complete');\n",
              "    }\n",
              "    (() => {\n",
              "      let quickchartButtonEl =\n",
              "        document.querySelector('#df-3aa0e7c8-6438-46a8-8969-4a8902009bee button');\n",
              "      quickchartButtonEl.style.display =\n",
              "        google.colab.kernel.accessAllowed ? 'block' : 'none';\n",
              "    })();\n",
              "  </script>\n",
              "</div>\n",
              "    </div>\n",
              "  </div>\n"
            ]
          },
          "metadata": {},
          "execution_count": 10
        }
      ]
    },
    {
      "cell_type": "code",
      "source": [
        "data_df.tail(20)"
      ],
      "metadata": {
        "colab": {
          "base_uri": "https://localhost:8080/",
          "height": 561
        },
        "id": "yksZsufuxCyb",
        "outputId": "dce07e79-0963-4d5d-824d-9eb6835d6521"
      },
      "execution_count": 12,
      "outputs": [
        {
          "output_type": "execute_result",
          "data": {
            "text/plain": [
              "0           TRACK_ID      ARTIST_ID      ALBUM_ID            PATH DURATION  \\\n",
              "55196  track_1421292  artist_497261  album_165772  92/1421292.mp3    252.0   \n",
              "55197  track_1421350  artist_466600  album_165783  50/1421350.mp3     55.1   \n",
              "55198  track_1421351  artist_466600  album_165783  51/1421351.mp3     30.0   \n",
              "55199  track_1421464  artist_423251  album_165832  64/1421464.mp3    220.4   \n",
              "55200  track_1421522  artist_496831  album_165799  22/1421522.mp3    175.0   \n",
              "55201  track_1421538  artist_423251  album_165832  38/1421538.mp3    189.2   \n",
              "55202  track_1421614  artist_421137  album_165801  14/1421614.mp3    206.4   \n",
              "55203  track_1421788  artist_343164  album_165824  88/1421788.mp3    239.0   \n",
              "55204  track_1421789  artist_343164  album_165824  89/1421789.mp3    271.9   \n",
              "55205  track_1421790  artist_343164  album_165824  90/1421790.mp3    274.5   \n",
              "55206  track_1421791  artist_343164  album_165824  91/1421791.mp3    300.9   \n",
              "55207  track_1421792  artist_343164  album_165824  92/1421792.mp3    280.8   \n",
              "55208  track_1421793  artist_343164  album_165824  93/1421793.mp3    244.7   \n",
              "55209  track_1422054  artist_496314  album_165847  54/1422054.mp3    504.0   \n",
              "55210  track_1422055  artist_496314  album_165847  55/1422055.mp3     88.8   \n",
              "55211  track_1422056  artist_496314  album_165847  56/1422056.mp3    516.0   \n",
              "55212  track_1422057  artist_496314  album_165847  57/1422057.mp3    374.9   \n",
              "55213  track_1422058  artist_496314  album_165847  58/1422058.mp3    315.8   \n",
              "55214  track_1422059  artist_496314  album_165847  59/1422059.mp3    201.3   \n",
              "55215  track_1422060  artist_496314  album_165847  60/1422060.mp3    336.0   \n",
              "\n",
              "0                                                   TAGS  \n",
              "55196  genre---atmospheric genre---indie genre---pop ...  \n",
              "55197  genre---orchestral genre---rock genre---soundt...  \n",
              "55198  genre---classical genre---orchestral genre---r...  \n",
              "55199                                   genre---chillout  \n",
              "55200  genre---atmospheric genre---darkambient genre-...  \n",
              "55201                                 genre---electropop  \n",
              "55202    genre---electronic genre---house genre---techno  \n",
              "55203  genre---electropop genre---indie genre---synthpop  \n",
              "55204  genre---electropop genre---indie genre---synthpop  \n",
              "55205  genre---electropop genre---indie genre---synthpop  \n",
              "55206  genre---electropop genre---indie genre---synthpop  \n",
              "55207  genre---electropop genre---indie genre---synthpop  \n",
              "55208  genre---electropop genre---indie genre---synthpop  \n",
              "55209                                 genre---soundtrack  \n",
              "55210                                 genre---soundtrack  \n",
              "55211                                 genre---soundtrack  \n",
              "55212                                 genre---soundtrack  \n",
              "55213                                 genre---soundtrack  \n",
              "55214                                 genre---soundtrack  \n",
              "55215                                 genre---soundtrack  "
            ],
            "text/html": [
              "\n",
              "  <div id=\"df-f15aff30-0cad-4a26-98e7-e2a85c382ec7\" class=\"colab-df-container\">\n",
              "    <div>\n",
              "<style scoped>\n",
              "    .dataframe tbody tr th:only-of-type {\n",
              "        vertical-align: middle;\n",
              "    }\n",
              "\n",
              "    .dataframe tbody tr th {\n",
              "        vertical-align: top;\n",
              "    }\n",
              "\n",
              "    .dataframe thead th {\n",
              "        text-align: right;\n",
              "    }\n",
              "</style>\n",
              "<table border=\"1\" class=\"dataframe\">\n",
              "  <thead>\n",
              "    <tr style=\"text-align: right;\">\n",
              "      <th></th>\n",
              "      <th>TRACK_ID</th>\n",
              "      <th>ARTIST_ID</th>\n",
              "      <th>ALBUM_ID</th>\n",
              "      <th>PATH</th>\n",
              "      <th>DURATION</th>\n",
              "      <th>TAGS</th>\n",
              "    </tr>\n",
              "  </thead>\n",
              "  <tbody>\n",
              "    <tr>\n",
              "      <th>55196</th>\n",
              "      <td>track_1421292</td>\n",
              "      <td>artist_497261</td>\n",
              "      <td>album_165772</td>\n",
              "      <td>92/1421292.mp3</td>\n",
              "      <td>252.0</td>\n",
              "      <td>genre---atmospheric genre---indie genre---pop ...</td>\n",
              "    </tr>\n",
              "    <tr>\n",
              "      <th>55197</th>\n",
              "      <td>track_1421350</td>\n",
              "      <td>artist_466600</td>\n",
              "      <td>album_165783</td>\n",
              "      <td>50/1421350.mp3</td>\n",
              "      <td>55.1</td>\n",
              "      <td>genre---orchestral genre---rock genre---soundt...</td>\n",
              "    </tr>\n",
              "    <tr>\n",
              "      <th>55198</th>\n",
              "      <td>track_1421351</td>\n",
              "      <td>artist_466600</td>\n",
              "      <td>album_165783</td>\n",
              "      <td>51/1421351.mp3</td>\n",
              "      <td>30.0</td>\n",
              "      <td>genre---classical genre---orchestral genre---r...</td>\n",
              "    </tr>\n",
              "    <tr>\n",
              "      <th>55199</th>\n",
              "      <td>track_1421464</td>\n",
              "      <td>artist_423251</td>\n",
              "      <td>album_165832</td>\n",
              "      <td>64/1421464.mp3</td>\n",
              "      <td>220.4</td>\n",
              "      <td>genre---chillout</td>\n",
              "    </tr>\n",
              "    <tr>\n",
              "      <th>55200</th>\n",
              "      <td>track_1421522</td>\n",
              "      <td>artist_496831</td>\n",
              "      <td>album_165799</td>\n",
              "      <td>22/1421522.mp3</td>\n",
              "      <td>175.0</td>\n",
              "      <td>genre---atmospheric genre---darkambient genre-...</td>\n",
              "    </tr>\n",
              "    <tr>\n",
              "      <th>55201</th>\n",
              "      <td>track_1421538</td>\n",
              "      <td>artist_423251</td>\n",
              "      <td>album_165832</td>\n",
              "      <td>38/1421538.mp3</td>\n",
              "      <td>189.2</td>\n",
              "      <td>genre---electropop</td>\n",
              "    </tr>\n",
              "    <tr>\n",
              "      <th>55202</th>\n",
              "      <td>track_1421614</td>\n",
              "      <td>artist_421137</td>\n",
              "      <td>album_165801</td>\n",
              "      <td>14/1421614.mp3</td>\n",
              "      <td>206.4</td>\n",
              "      <td>genre---electronic genre---house genre---techno</td>\n",
              "    </tr>\n",
              "    <tr>\n",
              "      <th>55203</th>\n",
              "      <td>track_1421788</td>\n",
              "      <td>artist_343164</td>\n",
              "      <td>album_165824</td>\n",
              "      <td>88/1421788.mp3</td>\n",
              "      <td>239.0</td>\n",
              "      <td>genre---electropop genre---indie genre---synthpop</td>\n",
              "    </tr>\n",
              "    <tr>\n",
              "      <th>55204</th>\n",
              "      <td>track_1421789</td>\n",
              "      <td>artist_343164</td>\n",
              "      <td>album_165824</td>\n",
              "      <td>89/1421789.mp3</td>\n",
              "      <td>271.9</td>\n",
              "      <td>genre---electropop genre---indie genre---synthpop</td>\n",
              "    </tr>\n",
              "    <tr>\n",
              "      <th>55205</th>\n",
              "      <td>track_1421790</td>\n",
              "      <td>artist_343164</td>\n",
              "      <td>album_165824</td>\n",
              "      <td>90/1421790.mp3</td>\n",
              "      <td>274.5</td>\n",
              "      <td>genre---electropop genre---indie genre---synthpop</td>\n",
              "    </tr>\n",
              "    <tr>\n",
              "      <th>55206</th>\n",
              "      <td>track_1421791</td>\n",
              "      <td>artist_343164</td>\n",
              "      <td>album_165824</td>\n",
              "      <td>91/1421791.mp3</td>\n",
              "      <td>300.9</td>\n",
              "      <td>genre---electropop genre---indie genre---synthpop</td>\n",
              "    </tr>\n",
              "    <tr>\n",
              "      <th>55207</th>\n",
              "      <td>track_1421792</td>\n",
              "      <td>artist_343164</td>\n",
              "      <td>album_165824</td>\n",
              "      <td>92/1421792.mp3</td>\n",
              "      <td>280.8</td>\n",
              "      <td>genre---electropop genre---indie genre---synthpop</td>\n",
              "    </tr>\n",
              "    <tr>\n",
              "      <th>55208</th>\n",
              "      <td>track_1421793</td>\n",
              "      <td>artist_343164</td>\n",
              "      <td>album_165824</td>\n",
              "      <td>93/1421793.mp3</td>\n",
              "      <td>244.7</td>\n",
              "      <td>genre---electropop genre---indie genre---synthpop</td>\n",
              "    </tr>\n",
              "    <tr>\n",
              "      <th>55209</th>\n",
              "      <td>track_1422054</td>\n",
              "      <td>artist_496314</td>\n",
              "      <td>album_165847</td>\n",
              "      <td>54/1422054.mp3</td>\n",
              "      <td>504.0</td>\n",
              "      <td>genre---soundtrack</td>\n",
              "    </tr>\n",
              "    <tr>\n",
              "      <th>55210</th>\n",
              "      <td>track_1422055</td>\n",
              "      <td>artist_496314</td>\n",
              "      <td>album_165847</td>\n",
              "      <td>55/1422055.mp3</td>\n",
              "      <td>88.8</td>\n",
              "      <td>genre---soundtrack</td>\n",
              "    </tr>\n",
              "    <tr>\n",
              "      <th>55211</th>\n",
              "      <td>track_1422056</td>\n",
              "      <td>artist_496314</td>\n",
              "      <td>album_165847</td>\n",
              "      <td>56/1422056.mp3</td>\n",
              "      <td>516.0</td>\n",
              "      <td>genre---soundtrack</td>\n",
              "    </tr>\n",
              "    <tr>\n",
              "      <th>55212</th>\n",
              "      <td>track_1422057</td>\n",
              "      <td>artist_496314</td>\n",
              "      <td>album_165847</td>\n",
              "      <td>57/1422057.mp3</td>\n",
              "      <td>374.9</td>\n",
              "      <td>genre---soundtrack</td>\n",
              "    </tr>\n",
              "    <tr>\n",
              "      <th>55213</th>\n",
              "      <td>track_1422058</td>\n",
              "      <td>artist_496314</td>\n",
              "      <td>album_165847</td>\n",
              "      <td>58/1422058.mp3</td>\n",
              "      <td>315.8</td>\n",
              "      <td>genre---soundtrack</td>\n",
              "    </tr>\n",
              "    <tr>\n",
              "      <th>55214</th>\n",
              "      <td>track_1422059</td>\n",
              "      <td>artist_496314</td>\n",
              "      <td>album_165847</td>\n",
              "      <td>59/1422059.mp3</td>\n",
              "      <td>201.3</td>\n",
              "      <td>genre---soundtrack</td>\n",
              "    </tr>\n",
              "    <tr>\n",
              "      <th>55215</th>\n",
              "      <td>track_1422060</td>\n",
              "      <td>artist_496314</td>\n",
              "      <td>album_165847</td>\n",
              "      <td>60/1422060.mp3</td>\n",
              "      <td>336.0</td>\n",
              "      <td>genre---soundtrack</td>\n",
              "    </tr>\n",
              "  </tbody>\n",
              "</table>\n",
              "</div>\n",
              "    <div class=\"colab-df-buttons\">\n",
              "\n",
              "  <div class=\"colab-df-container\">\n",
              "    <button class=\"colab-df-convert\" onclick=\"convertToInteractive('df-f15aff30-0cad-4a26-98e7-e2a85c382ec7')\"\n",
              "            title=\"Convert this dataframe to an interactive table.\"\n",
              "            style=\"display:none;\">\n",
              "\n",
              "  <svg xmlns=\"http://www.w3.org/2000/svg\" height=\"24px\" viewBox=\"0 -960 960 960\">\n",
              "    <path d=\"M120-120v-720h720v720H120Zm60-500h600v-160H180v160Zm220 220h160v-160H400v160Zm0 220h160v-160H400v160ZM180-400h160v-160H180v160Zm440 0h160v-160H620v160ZM180-180h160v-160H180v160Zm440 0h160v-160H620v160Z\"/>\n",
              "  </svg>\n",
              "    </button>\n",
              "\n",
              "  <style>\n",
              "    .colab-df-container {\n",
              "      display:flex;\n",
              "      gap: 12px;\n",
              "    }\n",
              "\n",
              "    .colab-df-convert {\n",
              "      background-color: #E8F0FE;\n",
              "      border: none;\n",
              "      border-radius: 50%;\n",
              "      cursor: pointer;\n",
              "      display: none;\n",
              "      fill: #1967D2;\n",
              "      height: 32px;\n",
              "      padding: 0 0 0 0;\n",
              "      width: 32px;\n",
              "    }\n",
              "\n",
              "    .colab-df-convert:hover {\n",
              "      background-color: #E2EBFA;\n",
              "      box-shadow: 0px 1px 2px rgba(60, 64, 67, 0.3), 0px 1px 3px 1px rgba(60, 64, 67, 0.15);\n",
              "      fill: #174EA6;\n",
              "    }\n",
              "\n",
              "    .colab-df-buttons div {\n",
              "      margin-bottom: 4px;\n",
              "    }\n",
              "\n",
              "    [theme=dark] .colab-df-convert {\n",
              "      background-color: #3B4455;\n",
              "      fill: #D2E3FC;\n",
              "    }\n",
              "\n",
              "    [theme=dark] .colab-df-convert:hover {\n",
              "      background-color: #434B5C;\n",
              "      box-shadow: 0px 1px 3px 1px rgba(0, 0, 0, 0.15);\n",
              "      filter: drop-shadow(0px 1px 2px rgba(0, 0, 0, 0.3));\n",
              "      fill: #FFFFFF;\n",
              "    }\n",
              "  </style>\n",
              "\n",
              "    <script>\n",
              "      const buttonEl =\n",
              "        document.querySelector('#df-f15aff30-0cad-4a26-98e7-e2a85c382ec7 button.colab-df-convert');\n",
              "      buttonEl.style.display =\n",
              "        google.colab.kernel.accessAllowed ? 'block' : 'none';\n",
              "\n",
              "      async function convertToInteractive(key) {\n",
              "        const element = document.querySelector('#df-f15aff30-0cad-4a26-98e7-e2a85c382ec7');\n",
              "        const dataTable =\n",
              "          await google.colab.kernel.invokeFunction('convertToInteractive',\n",
              "                                                    [key], {});\n",
              "        if (!dataTable) return;\n",
              "\n",
              "        const docLinkHtml = 'Like what you see? Visit the ' +\n",
              "          '<a target=\"_blank\" href=https://colab.research.google.com/notebooks/data_table.ipynb>data table notebook</a>'\n",
              "          + ' to learn more about interactive tables.';\n",
              "        element.innerHTML = '';\n",
              "        dataTable['output_type'] = 'display_data';\n",
              "        await google.colab.output.renderOutput(dataTable, element);\n",
              "        const docLink = document.createElement('div');\n",
              "        docLink.innerHTML = docLinkHtml;\n",
              "        element.appendChild(docLink);\n",
              "      }\n",
              "    </script>\n",
              "  </div>\n",
              "\n",
              "\n",
              "<div id=\"df-9359ca3c-6fe0-427f-b9b4-dcb47a80480a\">\n",
              "  <button class=\"colab-df-quickchart\" onclick=\"quickchart('df-9359ca3c-6fe0-427f-b9b4-dcb47a80480a')\"\n",
              "            title=\"Suggest charts\"\n",
              "            style=\"display:none;\">\n",
              "\n",
              "<svg xmlns=\"http://www.w3.org/2000/svg\" height=\"24px\"viewBox=\"0 0 24 24\"\n",
              "     width=\"24px\">\n",
              "    <g>\n",
              "        <path d=\"M19 3H5c-1.1 0-2 .9-2 2v14c0 1.1.9 2 2 2h14c1.1 0 2-.9 2-2V5c0-1.1-.9-2-2-2zM9 17H7v-7h2v7zm4 0h-2V7h2v10zm4 0h-2v-4h2v4z\"/>\n",
              "    </g>\n",
              "</svg>\n",
              "  </button>\n",
              "\n",
              "<style>\n",
              "  .colab-df-quickchart {\n",
              "      --bg-color: #E8F0FE;\n",
              "      --fill-color: #1967D2;\n",
              "      --hover-bg-color: #E2EBFA;\n",
              "      --hover-fill-color: #174EA6;\n",
              "      --disabled-fill-color: #AAA;\n",
              "      --disabled-bg-color: #DDD;\n",
              "  }\n",
              "\n",
              "  [theme=dark] .colab-df-quickchart {\n",
              "      --bg-color: #3B4455;\n",
              "      --fill-color: #D2E3FC;\n",
              "      --hover-bg-color: #434B5C;\n",
              "      --hover-fill-color: #FFFFFF;\n",
              "      --disabled-bg-color: #3B4455;\n",
              "      --disabled-fill-color: #666;\n",
              "  }\n",
              "\n",
              "  .colab-df-quickchart {\n",
              "    background-color: var(--bg-color);\n",
              "    border: none;\n",
              "    border-radius: 50%;\n",
              "    cursor: pointer;\n",
              "    display: none;\n",
              "    fill: var(--fill-color);\n",
              "    height: 32px;\n",
              "    padding: 0;\n",
              "    width: 32px;\n",
              "  }\n",
              "\n",
              "  .colab-df-quickchart:hover {\n",
              "    background-color: var(--hover-bg-color);\n",
              "    box-shadow: 0 1px 2px rgba(60, 64, 67, 0.3), 0 1px 3px 1px rgba(60, 64, 67, 0.15);\n",
              "    fill: var(--button-hover-fill-color);\n",
              "  }\n",
              "\n",
              "  .colab-df-quickchart-complete:disabled,\n",
              "  .colab-df-quickchart-complete:disabled:hover {\n",
              "    background-color: var(--disabled-bg-color);\n",
              "    fill: var(--disabled-fill-color);\n",
              "    box-shadow: none;\n",
              "  }\n",
              "\n",
              "  .colab-df-spinner {\n",
              "    border: 2px solid var(--fill-color);\n",
              "    border-color: transparent;\n",
              "    border-bottom-color: var(--fill-color);\n",
              "    animation:\n",
              "      spin 1s steps(1) infinite;\n",
              "  }\n",
              "\n",
              "  @keyframes spin {\n",
              "    0% {\n",
              "      border-color: transparent;\n",
              "      border-bottom-color: var(--fill-color);\n",
              "      border-left-color: var(--fill-color);\n",
              "    }\n",
              "    20% {\n",
              "      border-color: transparent;\n",
              "      border-left-color: var(--fill-color);\n",
              "      border-top-color: var(--fill-color);\n",
              "    }\n",
              "    30% {\n",
              "      border-color: transparent;\n",
              "      border-left-color: var(--fill-color);\n",
              "      border-top-color: var(--fill-color);\n",
              "      border-right-color: var(--fill-color);\n",
              "    }\n",
              "    40% {\n",
              "      border-color: transparent;\n",
              "      border-right-color: var(--fill-color);\n",
              "      border-top-color: var(--fill-color);\n",
              "    }\n",
              "    60% {\n",
              "      border-color: transparent;\n",
              "      border-right-color: var(--fill-color);\n",
              "    }\n",
              "    80% {\n",
              "      border-color: transparent;\n",
              "      border-right-color: var(--fill-color);\n",
              "      border-bottom-color: var(--fill-color);\n",
              "    }\n",
              "    90% {\n",
              "      border-color: transparent;\n",
              "      border-bottom-color: var(--fill-color);\n",
              "    }\n",
              "  }\n",
              "</style>\n",
              "\n",
              "  <script>\n",
              "    async function quickchart(key) {\n",
              "      const quickchartButtonEl =\n",
              "        document.querySelector('#' + key + ' button');\n",
              "      quickchartButtonEl.disabled = true;  // To prevent multiple clicks.\n",
              "      quickchartButtonEl.classList.add('colab-df-spinner');\n",
              "      try {\n",
              "        const charts = await google.colab.kernel.invokeFunction(\n",
              "            'suggestCharts', [key], {});\n",
              "      } catch (error) {\n",
              "        console.error('Error during call to suggestCharts:', error);\n",
              "      }\n",
              "      quickchartButtonEl.classList.remove('colab-df-spinner');\n",
              "      quickchartButtonEl.classList.add('colab-df-quickchart-complete');\n",
              "    }\n",
              "    (() => {\n",
              "      let quickchartButtonEl =\n",
              "        document.querySelector('#df-9359ca3c-6fe0-427f-b9b4-dcb47a80480a button');\n",
              "      quickchartButtonEl.style.display =\n",
              "        google.colab.kernel.accessAllowed ? 'block' : 'none';\n",
              "    })();\n",
              "  </script>\n",
              "</div>\n",
              "    </div>\n",
              "  </div>\n"
            ]
          },
          "metadata": {},
          "execution_count": 12
        }
      ]
    },
    {
      "cell_type": "code",
      "source": [
        "data_df[37045:37055]"
      ],
      "metadata": {
        "colab": {
          "base_uri": "https://localhost:8080/",
          "height": 349
        },
        "id": "OQoASt-LyRLu",
        "outputId": "6fa148f8-e511-4a08-dd15-783eb9ed2275"
      },
      "execution_count": 17,
      "outputs": [
        {
          "output_type": "execute_result",
          "data": {
            "text/plain": [
              "0           TRACK_ID      ARTIST_ID      ALBUM_ID            PATH DURATION  \\\n",
              "37046  track_1187363  artist_434945  album_142925  63/1187363.mp3    118.0   \n",
              "37047  track_1187420  artist_434945  album_142925  20/1187420.mp3    109.8   \n",
              "37048  track_1187421  artist_434945  album_142925  21/1187421.mp3    117.4   \n",
              "37049  track_1187479  artist_434945  album_142925  79/1187479.mp3     90.5   \n",
              "37050  track_1187638  artist_005365  album_142937  38/1187638.mp3    235.5   \n",
              "37051  track_1187639  artist_005365  album_142937  39/1187639.mp3    194.5   \n",
              "37052  track_1187640  artist_005365  album_142937  40/1187640.mp3    212.3   \n",
              "37053  track_1187641  artist_005365  album_142937  41/1187641.mp3    187.9   \n",
              "37054  track_1187642  artist_005365  album_142937  42/1187642.mp3    214.6   \n",
              "37055  track_1187705  artist_459855  album_142908  05/1187705.mp3    136.1   \n",
              "\n",
              "0                                                   TAGS  \n",
              "37046  genre---classical genre---orchestral genre---s...  \n",
              "37047  genre---classical genre---orchestral genre---s...  \n",
              "37048  genre---classical genre---orchestral genre---s...  \n",
              "37049  genre---classical genre---orchestral genre---s...  \n",
              "37050  genre---pop genre---popfolk genre---singersong...  \n",
              "37051  genre---pop genre---popfolk genre---singersong...  \n",
              "37052  genre---folk genre---popfolk genre---singerson...  \n",
              "37053  genre---pop genre---popfolk genre---singersong...  \n",
              "37054  genre---pop genre---popfolk genre---singersong...  \n",
              "37055  genre---ambient genre---classical genre---newwave  "
            ],
            "text/html": [
              "\n",
              "  <div id=\"df-0cec7b16-df16-456b-9ae9-38e4fdf863e7\" class=\"colab-df-container\">\n",
              "    <div>\n",
              "<style scoped>\n",
              "    .dataframe tbody tr th:only-of-type {\n",
              "        vertical-align: middle;\n",
              "    }\n",
              "\n",
              "    .dataframe tbody tr th {\n",
              "        vertical-align: top;\n",
              "    }\n",
              "\n",
              "    .dataframe thead th {\n",
              "        text-align: right;\n",
              "    }\n",
              "</style>\n",
              "<table border=\"1\" class=\"dataframe\">\n",
              "  <thead>\n",
              "    <tr style=\"text-align: right;\">\n",
              "      <th></th>\n",
              "      <th>TRACK_ID</th>\n",
              "      <th>ARTIST_ID</th>\n",
              "      <th>ALBUM_ID</th>\n",
              "      <th>PATH</th>\n",
              "      <th>DURATION</th>\n",
              "      <th>TAGS</th>\n",
              "    </tr>\n",
              "  </thead>\n",
              "  <tbody>\n",
              "    <tr>\n",
              "      <th>37046</th>\n",
              "      <td>track_1187363</td>\n",
              "      <td>artist_434945</td>\n",
              "      <td>album_142925</td>\n",
              "      <td>63/1187363.mp3</td>\n",
              "      <td>118.0</td>\n",
              "      <td>genre---classical genre---orchestral genre---s...</td>\n",
              "    </tr>\n",
              "    <tr>\n",
              "      <th>37047</th>\n",
              "      <td>track_1187420</td>\n",
              "      <td>artist_434945</td>\n",
              "      <td>album_142925</td>\n",
              "      <td>20/1187420.mp3</td>\n",
              "      <td>109.8</td>\n",
              "      <td>genre---classical genre---orchestral genre---s...</td>\n",
              "    </tr>\n",
              "    <tr>\n",
              "      <th>37048</th>\n",
              "      <td>track_1187421</td>\n",
              "      <td>artist_434945</td>\n",
              "      <td>album_142925</td>\n",
              "      <td>21/1187421.mp3</td>\n",
              "      <td>117.4</td>\n",
              "      <td>genre---classical genre---orchestral genre---s...</td>\n",
              "    </tr>\n",
              "    <tr>\n",
              "      <th>37049</th>\n",
              "      <td>track_1187479</td>\n",
              "      <td>artist_434945</td>\n",
              "      <td>album_142925</td>\n",
              "      <td>79/1187479.mp3</td>\n",
              "      <td>90.5</td>\n",
              "      <td>genre---classical genre---orchestral genre---s...</td>\n",
              "    </tr>\n",
              "    <tr>\n",
              "      <th>37050</th>\n",
              "      <td>track_1187638</td>\n",
              "      <td>artist_005365</td>\n",
              "      <td>album_142937</td>\n",
              "      <td>38/1187638.mp3</td>\n",
              "      <td>235.5</td>\n",
              "      <td>genre---pop genre---popfolk genre---singersong...</td>\n",
              "    </tr>\n",
              "    <tr>\n",
              "      <th>37051</th>\n",
              "      <td>track_1187639</td>\n",
              "      <td>artist_005365</td>\n",
              "      <td>album_142937</td>\n",
              "      <td>39/1187639.mp3</td>\n",
              "      <td>194.5</td>\n",
              "      <td>genre---pop genre---popfolk genre---singersong...</td>\n",
              "    </tr>\n",
              "    <tr>\n",
              "      <th>37052</th>\n",
              "      <td>track_1187640</td>\n",
              "      <td>artist_005365</td>\n",
              "      <td>album_142937</td>\n",
              "      <td>40/1187640.mp3</td>\n",
              "      <td>212.3</td>\n",
              "      <td>genre---folk genre---popfolk genre---singerson...</td>\n",
              "    </tr>\n",
              "    <tr>\n",
              "      <th>37053</th>\n",
              "      <td>track_1187641</td>\n",
              "      <td>artist_005365</td>\n",
              "      <td>album_142937</td>\n",
              "      <td>41/1187641.mp3</td>\n",
              "      <td>187.9</td>\n",
              "      <td>genre---pop genre---popfolk genre---singersong...</td>\n",
              "    </tr>\n",
              "    <tr>\n",
              "      <th>37054</th>\n",
              "      <td>track_1187642</td>\n",
              "      <td>artist_005365</td>\n",
              "      <td>album_142937</td>\n",
              "      <td>42/1187642.mp3</td>\n",
              "      <td>214.6</td>\n",
              "      <td>genre---pop genre---popfolk genre---singersong...</td>\n",
              "    </tr>\n",
              "    <tr>\n",
              "      <th>37055</th>\n",
              "      <td>track_1187705</td>\n",
              "      <td>artist_459855</td>\n",
              "      <td>album_142908</td>\n",
              "      <td>05/1187705.mp3</td>\n",
              "      <td>136.1</td>\n",
              "      <td>genre---ambient genre---classical genre---newwave</td>\n",
              "    </tr>\n",
              "  </tbody>\n",
              "</table>\n",
              "</div>\n",
              "    <div class=\"colab-df-buttons\">\n",
              "\n",
              "  <div class=\"colab-df-container\">\n",
              "    <button class=\"colab-df-convert\" onclick=\"convertToInteractive('df-0cec7b16-df16-456b-9ae9-38e4fdf863e7')\"\n",
              "            title=\"Convert this dataframe to an interactive table.\"\n",
              "            style=\"display:none;\">\n",
              "\n",
              "  <svg xmlns=\"http://www.w3.org/2000/svg\" height=\"24px\" viewBox=\"0 -960 960 960\">\n",
              "    <path d=\"M120-120v-720h720v720H120Zm60-500h600v-160H180v160Zm220 220h160v-160H400v160Zm0 220h160v-160H400v160ZM180-400h160v-160H180v160Zm440 0h160v-160H620v160ZM180-180h160v-160H180v160Zm440 0h160v-160H620v160Z\"/>\n",
              "  </svg>\n",
              "    </button>\n",
              "\n",
              "  <style>\n",
              "    .colab-df-container {\n",
              "      display:flex;\n",
              "      gap: 12px;\n",
              "    }\n",
              "\n",
              "    .colab-df-convert {\n",
              "      background-color: #E8F0FE;\n",
              "      border: none;\n",
              "      border-radius: 50%;\n",
              "      cursor: pointer;\n",
              "      display: none;\n",
              "      fill: #1967D2;\n",
              "      height: 32px;\n",
              "      padding: 0 0 0 0;\n",
              "      width: 32px;\n",
              "    }\n",
              "\n",
              "    .colab-df-convert:hover {\n",
              "      background-color: #E2EBFA;\n",
              "      box-shadow: 0px 1px 2px rgba(60, 64, 67, 0.3), 0px 1px 3px 1px rgba(60, 64, 67, 0.15);\n",
              "      fill: #174EA6;\n",
              "    }\n",
              "\n",
              "    .colab-df-buttons div {\n",
              "      margin-bottom: 4px;\n",
              "    }\n",
              "\n",
              "    [theme=dark] .colab-df-convert {\n",
              "      background-color: #3B4455;\n",
              "      fill: #D2E3FC;\n",
              "    }\n",
              "\n",
              "    [theme=dark] .colab-df-convert:hover {\n",
              "      background-color: #434B5C;\n",
              "      box-shadow: 0px 1px 3px 1px rgba(0, 0, 0, 0.15);\n",
              "      filter: drop-shadow(0px 1px 2px rgba(0, 0, 0, 0.3));\n",
              "      fill: #FFFFFF;\n",
              "    }\n",
              "  </style>\n",
              "\n",
              "    <script>\n",
              "      const buttonEl =\n",
              "        document.querySelector('#df-0cec7b16-df16-456b-9ae9-38e4fdf863e7 button.colab-df-convert');\n",
              "      buttonEl.style.display =\n",
              "        google.colab.kernel.accessAllowed ? 'block' : 'none';\n",
              "\n",
              "      async function convertToInteractive(key) {\n",
              "        const element = document.querySelector('#df-0cec7b16-df16-456b-9ae9-38e4fdf863e7');\n",
              "        const dataTable =\n",
              "          await google.colab.kernel.invokeFunction('convertToInteractive',\n",
              "                                                    [key], {});\n",
              "        if (!dataTable) return;\n",
              "\n",
              "        const docLinkHtml = 'Like what you see? Visit the ' +\n",
              "          '<a target=\"_blank\" href=https://colab.research.google.com/notebooks/data_table.ipynb>data table notebook</a>'\n",
              "          + ' to learn more about interactive tables.';\n",
              "        element.innerHTML = '';\n",
              "        dataTable['output_type'] = 'display_data';\n",
              "        await google.colab.output.renderOutput(dataTable, element);\n",
              "        const docLink = document.createElement('div');\n",
              "        docLink.innerHTML = docLinkHtml;\n",
              "        element.appendChild(docLink);\n",
              "      }\n",
              "    </script>\n",
              "  </div>\n",
              "\n",
              "\n",
              "<div id=\"df-ddc2829f-2de9-4673-8581-7f9ed42fda63\">\n",
              "  <button class=\"colab-df-quickchart\" onclick=\"quickchart('df-ddc2829f-2de9-4673-8581-7f9ed42fda63')\"\n",
              "            title=\"Suggest charts\"\n",
              "            style=\"display:none;\">\n",
              "\n",
              "<svg xmlns=\"http://www.w3.org/2000/svg\" height=\"24px\"viewBox=\"0 0 24 24\"\n",
              "     width=\"24px\">\n",
              "    <g>\n",
              "        <path d=\"M19 3H5c-1.1 0-2 .9-2 2v14c0 1.1.9 2 2 2h14c1.1 0 2-.9 2-2V5c0-1.1-.9-2-2-2zM9 17H7v-7h2v7zm4 0h-2V7h2v10zm4 0h-2v-4h2v4z\"/>\n",
              "    </g>\n",
              "</svg>\n",
              "  </button>\n",
              "\n",
              "<style>\n",
              "  .colab-df-quickchart {\n",
              "      --bg-color: #E8F0FE;\n",
              "      --fill-color: #1967D2;\n",
              "      --hover-bg-color: #E2EBFA;\n",
              "      --hover-fill-color: #174EA6;\n",
              "      --disabled-fill-color: #AAA;\n",
              "      --disabled-bg-color: #DDD;\n",
              "  }\n",
              "\n",
              "  [theme=dark] .colab-df-quickchart {\n",
              "      --bg-color: #3B4455;\n",
              "      --fill-color: #D2E3FC;\n",
              "      --hover-bg-color: #434B5C;\n",
              "      --hover-fill-color: #FFFFFF;\n",
              "      --disabled-bg-color: #3B4455;\n",
              "      --disabled-fill-color: #666;\n",
              "  }\n",
              "\n",
              "  .colab-df-quickchart {\n",
              "    background-color: var(--bg-color);\n",
              "    border: none;\n",
              "    border-radius: 50%;\n",
              "    cursor: pointer;\n",
              "    display: none;\n",
              "    fill: var(--fill-color);\n",
              "    height: 32px;\n",
              "    padding: 0;\n",
              "    width: 32px;\n",
              "  }\n",
              "\n",
              "  .colab-df-quickchart:hover {\n",
              "    background-color: var(--hover-bg-color);\n",
              "    box-shadow: 0 1px 2px rgba(60, 64, 67, 0.3), 0 1px 3px 1px rgba(60, 64, 67, 0.15);\n",
              "    fill: var(--button-hover-fill-color);\n",
              "  }\n",
              "\n",
              "  .colab-df-quickchart-complete:disabled,\n",
              "  .colab-df-quickchart-complete:disabled:hover {\n",
              "    background-color: var(--disabled-bg-color);\n",
              "    fill: var(--disabled-fill-color);\n",
              "    box-shadow: none;\n",
              "  }\n",
              "\n",
              "  .colab-df-spinner {\n",
              "    border: 2px solid var(--fill-color);\n",
              "    border-color: transparent;\n",
              "    border-bottom-color: var(--fill-color);\n",
              "    animation:\n",
              "      spin 1s steps(1) infinite;\n",
              "  }\n",
              "\n",
              "  @keyframes spin {\n",
              "    0% {\n",
              "      border-color: transparent;\n",
              "      border-bottom-color: var(--fill-color);\n",
              "      border-left-color: var(--fill-color);\n",
              "    }\n",
              "    20% {\n",
              "      border-color: transparent;\n",
              "      border-left-color: var(--fill-color);\n",
              "      border-top-color: var(--fill-color);\n",
              "    }\n",
              "    30% {\n",
              "      border-color: transparent;\n",
              "      border-left-color: var(--fill-color);\n",
              "      border-top-color: var(--fill-color);\n",
              "      border-right-color: var(--fill-color);\n",
              "    }\n",
              "    40% {\n",
              "      border-color: transparent;\n",
              "      border-right-color: var(--fill-color);\n",
              "      border-top-color: var(--fill-color);\n",
              "    }\n",
              "    60% {\n",
              "      border-color: transparent;\n",
              "      border-right-color: var(--fill-color);\n",
              "    }\n",
              "    80% {\n",
              "      border-color: transparent;\n",
              "      border-right-color: var(--fill-color);\n",
              "      border-bottom-color: var(--fill-color);\n",
              "    }\n",
              "    90% {\n",
              "      border-color: transparent;\n",
              "      border-bottom-color: var(--fill-color);\n",
              "    }\n",
              "  }\n",
              "</style>\n",
              "\n",
              "  <script>\n",
              "    async function quickchart(key) {\n",
              "      const quickchartButtonEl =\n",
              "        document.querySelector('#' + key + ' button');\n",
              "      quickchartButtonEl.disabled = true;  // To prevent multiple clicks.\n",
              "      quickchartButtonEl.classList.add('colab-df-spinner');\n",
              "      try {\n",
              "        const charts = await google.colab.kernel.invokeFunction(\n",
              "            'suggestCharts', [key], {});\n",
              "      } catch (error) {\n",
              "        console.error('Error during call to suggestCharts:', error);\n",
              "      }\n",
              "      quickchartButtonEl.classList.remove('colab-df-spinner');\n",
              "      quickchartButtonEl.classList.add('colab-df-quickchart-complete');\n",
              "    }\n",
              "    (() => {\n",
              "      let quickchartButtonEl =\n",
              "        document.querySelector('#df-ddc2829f-2de9-4673-8581-7f9ed42fda63 button');\n",
              "      quickchartButtonEl.style.display =\n",
              "        google.colab.kernel.accessAllowed ? 'block' : 'none';\n",
              "    })();\n",
              "  </script>\n",
              "</div>\n",
              "    </div>\n",
              "  </div>\n"
            ]
          },
          "metadata": {},
          "execution_count": 17
        }
      ]
    },
    {
      "cell_type": "code",
      "source": [],
      "metadata": {
        "id": "k4YOny3mzSTU"
      },
      "execution_count": null,
      "outputs": []
    }
  ]
}